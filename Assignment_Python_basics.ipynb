{
  "nbformat": 4,
  "nbformat_minor": 0,
  "metadata": {
    "colab": {
      "provenance": []
    },
    "kernelspec": {
      "name": "python3",
      "display_name": "Python 3"
    },
    "language_info": {
      "name": "python"
    }
  },
  "cells": [
    {
      "cell_type": "markdown",
      "source": [
        "#Python Basics Questions\n",
        "\n",
        "\n",
        "1. What is Python, and why is it popular?\n",
        " - Python is a high-level, interpreted programming language known for its simplicity, versatility, and extensive libraries, making it popular for web development, AI, data science, and automation.\n",
        "\n",
        "2. What is an interpreter in Python?\n",
        " - An interpreter in Python is a program that executes code line by line, converting it into machine-readable instructions without requiring prior compilation.\n",
        "\n",
        "3. What are pre-defined keywords in Python?\n",
        " - Pre-defined keywords in Python are reserved words with special meanings, such as `if`, `else`, `while`, `for`, `def`, and `class`, which cannot be used as variable names.\n",
        "\n",
        "4. Can keywords be used as variable names?\n",
        " - No, keywords cannot be used as variable names in Python because they have predefined meanings and syntax rules.\n",
        "\n",
        "5. What is mutability in Python?\n",
        " - Mutability in Python refers to an object's ability to change its value after creation, where **mutable objects** (e.g., lists, dictionaries) can be modified, while **immutable objects** (e.g., tuples, strings) cannot.\n",
        "\n",
        "6. Why are lists mutable, but tuples are immutable?\n",
        " - Lists are mutable because they allow modifications like adding, removing, or changing elements, whereas tuples are immutable because their structure is fixed and cannot be altered after creation.\n",
        "\n",
        "7. What is the difference between “==” and “is” operators in Python?\n",
        " - `==` checks if **values** of two objects are equal, while `is` checks if **both refer to the same memory location (identity)**.\n",
        "\n",
        "8. What are logical operators in Python?\n",
        " - Logical operators in Python are used to combine conditional statements and include **`and`**, **`or`**, and **`not`**.\n",
        "\n",
        "9. What is type casting in Python?\n",
        " - Type casting in Python is the process of converting one data type to another using functions like `int()`, `float()`, `str()`, and `list()`.\n",
        "\n",
        "10. What is the difference between implicit and explicit type casting?\n",
        " - Implicit type casting occurs when Python automatically converts one data type to another without data loss, such as converting an integer to a float during arithmetic operations.  \n",
        " - Explicit type casting is when a programmer manually converts a data type using functions like `int()`, `float()`, or `str()` to ensure compatibility between different types.  \n",
        " - Implicit casting happens naturally in operations, ensuring smooth execution, while explicit casting is necessary when Python does not perform automatic conversion.\n",
        "\n",
        "11. What is the purpose of conditional statements in Python?\n",
        " - Conditional statements in Python control the flow of execution by executing different code blocks based on whether a condition is **True** or **False**.\n",
        "\n",
        "12. How does the elif statement work?\n",
        " - The `elif` statement in Python checks multiple conditions sequentially and executes the first block where the condition is **True**, skipping the rest.\n",
        "\n",
        "13. What is the difference between for and while loops?\n",
        "  - A **`for` loop** is used for iterating over a sequence (like a list, tuple, or range) with a fixed number of iterations.  \n",
        "  - A **`while` loop** runs as long as a specified condition remains **True**, making it useful for indefinite or condition-based looping.\n",
        "\n",
        "14. Describe a scenario where a while loop is more suitable than a for loop?\n",
        " - A **while loop** is more suitable when the number of iterations is unknown beforehand and depends on a condition being met.\n",
        " - For example, in a user authentication system, a while loop can repeatedly prompt for a password until the correct one is entered.  \n",
        " - Another scenario is **waiting for user input**, where a program keeps running until the user provides valid input, like in menu-driven applications or interactive programs.\n",
        "\n",
        "\n",
        " ---- END OF BASIS QUESTIONS ----"
      ],
      "metadata": {
        "id": "8VnKCYoWahsF"
      }
    },
    {
      "cell_type": "markdown",
      "source": [
        "# Practical Questions"
      ],
      "metadata": {
        "id": "ElEJO47Aju9P"
      }
    },
    {
      "cell_type": "code",
      "source": [
        "1. #Write a Python program to print \"Hello, World!_\n",
        "print(\"Hello, World!\")"
      ],
      "metadata": {
        "colab": {
          "base_uri": "https://localhost:8080/"
        },
        "id": "R4R8PY8Zj1tT",
        "outputId": "c8d7f8eb-d3b5-4d4b-ba12-e5e1c40df863"
      },
      "execution_count": 5,
      "outputs": [
        {
          "output_type": "stream",
          "name": "stdout",
          "text": [
            "Hello, World!\n"
          ]
        }
      ]
    },
    {
      "cell_type": "code",
      "source": [
        "2. #Write a Python program that displays your name and age?\n",
        "name = \"Ryan_Chettiar\"\n",
        "age = 21\n",
        "\n",
        "print(\"My name is\", name)\n",
        "print(\"I am\", age, \"years old\")"
      ],
      "metadata": {
        "colab": {
          "base_uri": "https://localhost:8080/"
        },
        "id": "t-1c24Fbj6U8",
        "outputId": "fd4ad1fb-f702-4daf-d3ff-d9a2fe61316a"
      },
      "execution_count": 3,
      "outputs": [
        {
          "output_type": "stream",
          "name": "stdout",
          "text": [
            "My name is Ryan_Chettiar\n",
            "I am 21 years old\n"
          ]
        }
      ]
    },
    {
      "cell_type": "code",
      "source": [
        "3. #Write code to print all the pre-defined keywords in Python using the keyword library?\n",
        "import keyword\n",
        "\n",
        "print(keyword.kwlist)\n"
      ],
      "metadata": {
        "colab": {
          "base_uri": "https://localhost:8080/"
        },
        "id": "GYA9L-QHkVwE",
        "outputId": "2af104bb-d83d-444c-91ac-87170c1b5e92"
      },
      "execution_count": 1,
      "outputs": [
        {
          "output_type": "stream",
          "name": "stdout",
          "text": [
            "['False', 'None', 'True', 'and', 'as', 'assert', 'async', 'await', 'break', 'class', 'continue', 'def', 'del', 'elif', 'else', 'except', 'finally', 'for', 'from', 'global', 'if', 'import', 'in', 'is', 'lambda', 'nonlocal', 'not', 'or', 'pass', 'raise', 'return', 'try', 'while', 'with', 'yield']\n"
          ]
        }
      ]
    },
    {
      "cell_type": "code",
      "source": [
        "4.  #Write a program that checks if a given word is a Python keyword?\n",
        "import keyword\n",
        "\n",
        "word = input(\"Enter a word: \")\n",
        "if keyword.iskeyword(word):\n",
        "    print(f\"'{word}' is a Python keyword.\")\n",
        "else:\n",
        "    print(f\"'{word}' is NOT a Python keyword.\")"
      ],
      "metadata": {
        "colab": {
          "base_uri": "https://localhost:8080/"
        },
        "id": "MuULRzWvuvc2",
        "outputId": "5a8f9c7d-b028-4da3-df61-badee1764227"
      },
      "execution_count": 5,
      "outputs": [
        {
          "output_type": "stream",
          "name": "stdout",
          "text": [
            "Enter a word: True\n",
            "'True' is a Python keyword.\n"
          ]
        }
      ]
    },
    {
      "cell_type": "code",
      "source": [
        "5. #Create a list and tuple in Python, and demonstrate how attempting to change an element works differently for each?\n",
        "my_tuple = (1, 2, 3)\n",
        "my_list = [1, 2, 3]\n",
        "temp_list = list(my_tuple)\n",
        "temp_list[0] = 10\n",
        "new_tuple = tuple(temp_list)\n",
        "\n",
        "print(\"Modified Tuple:\", new_tuple)"
      ],
      "metadata": {
        "colab": {
          "base_uri": "https://localhost:8080/"
        },
        "id": "343ltOlhvKZB",
        "outputId": "0df24471-cd96-49c9-aec0-449688296bca"
      },
      "execution_count": 8,
      "outputs": [
        {
          "output_type": "stream",
          "name": "stdout",
          "text": [
            "Modified Tuple: (10, 2, 3)\n"
          ]
        }
      ]
    },
    {
      "cell_type": "code",
      "source": [
        "6. # Write a function to demonstrate the behavior of mutable and immutable arguments?\n",
        "def modify_values(num, my_list):\n",
        "    num += 10\n",
        "    my_list.append(4)\n",
        "    print(\"Inside function - num:\", num)\n",
        "    print(\"Inside function - list:\", my_list)\n",
        "\n",
        "x = 5\n",
        "my_list = [1, 2, 3]\n",
        "modify_values(x, my_list)\n",
        "print(\"Outside function - num:\", x)\n",
        "print(\"Outside function - list:\", my_list)"
      ],
      "metadata": {
        "colab": {
          "base_uri": "https://localhost:8080/"
        },
        "id": "VqgPUlpzvfBN",
        "outputId": "61f6306a-7e9e-4676-e686-174c67a572f9"
      },
      "execution_count": 9,
      "outputs": [
        {
          "output_type": "stream",
          "name": "stdout",
          "text": [
            "Inside function - num: 15\n",
            "Inside function - list: [1, 2, 3, 4]\n",
            "Outside function - num: 5\n",
            "Outside function - list: [1, 2, 3, 4]\n"
          ]
        }
      ]
    },
    {
      "cell_type": "code",
      "source": [
        "7. #Write a function to demonstrate the behavior of mutable and immutable arguments?\n",
        "def demonstrate_mutability(immutable_var, mutable_var):\n",
        "    immutable_var += 10\n",
        "    print(\"Inside function (immutable):\", immutable_var)\n",
        "    mutable_var.append(100)\n",
        "    print(\"Inside function (mutable):\", mutable_var)\n",
        "\n",
        "num = 50\n",
        "my_list = [1, 2, 3]\n",
        "\n",
        "demonstrate_mutability(num, my_list)\n",
        "\n",
        "print(\"Outside function (immutable):\", num)\n",
        "print(\"Outside function (mutable):\", my_list)\n",
        "my_list = [1, 2, 3]\n",
        "print(\"Outside function (immutable):\", num)\n",
        "print(\"Outside function (mutable):\", my_list)"
      ],
      "metadata": {
        "colab": {
          "base_uri": "https://localhost:8080/"
        },
        "id": "yaamgAmcv_Ic",
        "outputId": "5d18f8a4-761e-4082-85cf-f263aae3a993"
      },
      "execution_count": 10,
      "outputs": [
        {
          "output_type": "stream",
          "name": "stdout",
          "text": [
            "Inside function (immutable): 60\n",
            "Inside function (mutable): [1, 2, 3, 100]\n",
            "Outside function (immutable): 50\n",
            "Outside function (mutable): [1, 2, 3, 100]\n",
            "Outside function (immutable): 50\n",
            "Outside function (mutable): [1, 2, 3]\n"
          ]
        }
      ]
    },
    {
      "cell_type": "code",
      "source": [
        "8. #Write a program to demonstrate the use of logical operators?\n",
        "age = int(input(\"Enter your age: \"))\n",
        "has_license = input(\"Do you have a driving license? (yes/no): \").strip().lower() == \"yes\"\n",
        "if age >= 18 and has_license:\n",
        "    print(\"You are eligible to drive.\")\n",
        "else:\n",
        "    print(\"You are not eligible to drive.\")\n",
        "if age < 18 or not has_license:\n",
        "    print(\"You cannot drive legally.\")\n",
        "if not has_license:\n",
        "    print(\"You need a driving license to drive.\")"
      ],
      "metadata": {
        "colab": {
          "base_uri": "https://localhost:8080/"
        },
        "id": "MfMVQGBrwXab",
        "outputId": "0eb075d5-8c17-44e1-abff-45b10298dd31"
      },
      "execution_count": 11,
      "outputs": [
        {
          "output_type": "stream",
          "name": "stdout",
          "text": [
            "Enter your age: 21\n",
            "Do you have a driving license? (yes/no): Yes\n",
            "You are eligible to drive.\n"
          ]
        }
      ]
    },
    {
      "cell_type": "code",
      "source": [
        "9. #Write a Python program to convert user input from string to integer, float, and boolean types?\n",
        "user_input = input(\"Enter a value: \")\n",
        "try:\n",
        "    int_value = int(user_input)\n",
        "    print(\"Integer:\", int_value)\n",
        "except ValueError:\n",
        "    print(\"Cannot convert to Integer\")\n",
        "try:\n",
        "    float_value = float(user_input)\n",
        "    print(\"Float:\", float_value)\n",
        "except ValueError:\n",
        "    print(\"Cannot convert to Float\")\n",
        "bool_value = bool(user_input)\n",
        "print(\"Boolean:\", bool_value)"
      ],
      "metadata": {
        "colab": {
          "base_uri": "https://localhost:8080/"
        },
        "id": "MpmyF0f_wk-t",
        "outputId": "bbc03186-29a9-44ca-ef83-cb832ce457b6"
      },
      "execution_count": 12,
      "outputs": [
        {
          "output_type": "stream",
          "name": "stdout",
          "text": [
            "Enter a value: 100\n",
            "Integer: 100\n",
            "Float: 100.0\n",
            "Boolean: True\n"
          ]
        }
      ]
    },
    {
      "cell_type": "code",
      "source": [
        "10. #Write code to demonstrate type casting with list elements?\n",
        "data_list = [\"10\", \"20.5\", \"True\", \"0\", \"\"]\n",
        "int_list = [int(x) for x in data_list if x.isdigit()]\n",
        "float_list = [float(x) for x in data_list if x.replace('.', '', 1).isdigit()]\n",
        "bool_list = [bool(x) for x in data_list]\n",
        "\n",
        "print(\"Original List:\", data_list)\n",
        "print(\"Integer List:\", int_list)\n",
        "print(\"Float List:\", float_list)\n",
        "print(\"Boolean List:\", bool_list)\n"
      ],
      "metadata": {
        "colab": {
          "base_uri": "https://localhost:8080/"
        },
        "id": "gCduI0nkw3tB",
        "outputId": "45a2347c-aa08-410c-e72e-2ff68b06091b"
      },
      "execution_count": 13,
      "outputs": [
        {
          "output_type": "stream",
          "name": "stdout",
          "text": [
            "Original List: ['10', '20.5', 'True', '0', '']\n",
            "Integer List: [10, 0]\n",
            "Float List: [10.0, 20.5, 0.0]\n",
            "Boolean List: [True, True, True, True, False]\n"
          ]
        }
      ]
    },
    {
      "cell_type": "code",
      "source": [
        "11. #Write a program that checks if a number is positive, negative, or zero?\n",
        "num = float(input(\"Enter a number: \"))\n",
        "if num > 0:\n",
        "    print(\"The number is Positive.\")\n",
        "elif num < 0:\n",
        "    print(\"The number is Negative.\")\n",
        "else:\n",
        "    print(\"The number is Zero.\")\n"
      ],
      "metadata": {
        "colab": {
          "base_uri": "https://localhost:8080/"
        },
        "id": "36IUrrWCxHTM",
        "outputId": "2d17401d-a209-42dd-c698-223c7759506a"
      },
      "execution_count": 14,
      "outputs": [
        {
          "output_type": "stream",
          "name": "stdout",
          "text": [
            "Enter a number: 10\n",
            "The number is Positive.\n"
          ]
        }
      ]
    },
    {
      "cell_type": "code",
      "source": [
        "12. #Write a for loop to print numbers from 1 to 100?\n",
        "for num in range(1, 101):\n",
        "    print(num)"
      ],
      "metadata": {
        "colab": {
          "base_uri": "https://localhost:8080/"
        },
        "id": "uRz7EkI-xVq0",
        "outputId": "b638bfac-ba58-482e-9c34-d6d056dab1bd"
      },
      "execution_count": 15,
      "outputs": [
        {
          "output_type": "stream",
          "name": "stdout",
          "text": [
            "1\n",
            "2\n",
            "3\n",
            "4\n",
            "5\n",
            "6\n",
            "7\n",
            "8\n",
            "9\n",
            "10\n",
            "11\n",
            "12\n",
            "13\n",
            "14\n",
            "15\n",
            "16\n",
            "17\n",
            "18\n",
            "19\n",
            "20\n",
            "21\n",
            "22\n",
            "23\n",
            "24\n",
            "25\n",
            "26\n",
            "27\n",
            "28\n",
            "29\n",
            "30\n",
            "31\n",
            "32\n",
            "33\n",
            "34\n",
            "35\n",
            "36\n",
            "37\n",
            "38\n",
            "39\n",
            "40\n",
            "41\n",
            "42\n",
            "43\n",
            "44\n",
            "45\n",
            "46\n",
            "47\n",
            "48\n",
            "49\n",
            "50\n",
            "51\n",
            "52\n",
            "53\n",
            "54\n",
            "55\n",
            "56\n",
            "57\n",
            "58\n",
            "59\n",
            "60\n",
            "61\n",
            "62\n",
            "63\n",
            "64\n",
            "65\n",
            "66\n",
            "67\n",
            "68\n",
            "69\n",
            "70\n",
            "71\n",
            "72\n",
            "73\n",
            "74\n",
            "75\n",
            "76\n",
            "77\n",
            "78\n",
            "79\n",
            "80\n",
            "81\n",
            "82\n",
            "83\n",
            "84\n",
            "85\n",
            "86\n",
            "87\n",
            "88\n",
            "89\n",
            "90\n",
            "91\n",
            "92\n",
            "93\n",
            "94\n",
            "95\n",
            "96\n",
            "97\n",
            "98\n",
            "99\n",
            "100\n"
          ]
        }
      ]
    },
    {
      "cell_type": "code",
      "source": [
        "13. #Write a Python program to find the sum of all even numbers between 1 and 50?\n",
        "sum_even = 0\n",
        "for num in range(2, 51, 2):\n",
        "    sum_even += num\n",
        "print(\"Sum of even numbers between 1 and 50:\", sum_even)"
      ],
      "metadata": {
        "colab": {
          "base_uri": "https://localhost:8080/"
        },
        "id": "AmY7o5a8xfmC",
        "outputId": "4d36cb00-bde3-4aca-e9c4-4ee57502e8b7"
      },
      "execution_count": 16,
      "outputs": [
        {
          "output_type": "stream",
          "name": "stdout",
          "text": [
            "Sum of even numbers between 1 and 50: 650\n"
          ]
        }
      ]
    },
    {
      "cell_type": "code",
      "source": [
        "14. #Write a program to reverse a string using a while loop?\n",
        "text = input(\"Enter a string: \")\n",
        "reversed_text = \"\"\n",
        "index = len(text) - 1\n",
        "while index >= 0:\n",
        "    reversed_text += text[index]\n",
        "    index -= 1\n",
        "print(\"Reversed String:\", reversed_text)\n"
      ],
      "metadata": {
        "colab": {
          "base_uri": "https://localhost:8080/"
        },
        "id": "Tr6ViD7AxsVo",
        "outputId": "f5fba49d-1b5b-43b1-bfde-b4dbc40f6c9e"
      },
      "execution_count": 17,
      "outputs": [
        {
          "output_type": "stream",
          "name": "stdout",
          "text": [
            "Enter a string: Ryan\n",
            "Reversed String: nayR\n"
          ]
        }
      ]
    },
    {
      "cell_type": "code",
      "source": [
        "15. #Write a Python program to calculate the factorial of a number provided by the user using a while loop?\n",
        "num = int(input(\"Enter a number: \"))\n",
        "factorial = 1\n",
        "i = num\n",
        "while i > 0:\n",
        "    factorial *= i\n",
        "    i -= 1\n",
        "print(f\"Factorial of {num} is: {factorial}\")"
      ],
      "metadata": {
        "colab": {
          "base_uri": "https://localhost:8080/"
        },
        "id": "aa8IrexBx5Ke",
        "outputId": "a9f6aea3-b925-42b9-b141-04317a22a35c"
      },
      "execution_count": 19,
      "outputs": [
        {
          "output_type": "stream",
          "name": "stdout",
          "text": [
            "Enter a number: 10\n",
            "Factorial of 10 is: 3628800\n"
          ]
        }
      ]
    },
    {
      "cell_type": "markdown",
      "source": [
        "-----END OF PRATICAL QUESTIONS----"
      ],
      "metadata": {
        "id": "ZeB_WDCdyOVf"
      }
    }
  ]
}