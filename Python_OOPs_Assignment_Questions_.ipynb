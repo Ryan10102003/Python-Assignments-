{
  "nbformat": 4,
  "nbformat_minor": 0,
  "metadata": {
    "colab": {
      "provenance": []
    },
    "kernelspec": {
      "name": "python3",
      "display_name": "Python 3"
    },
    "language_info": {
      "name": "python"
    }
  },
  "cells": [
    {
      "cell_type": "markdown",
      "source": [
        "# Python OOPs\n",
        "\n",
        "1. What is Object-Oriented Programming (OOP)?\n",
        " - Object-Oriented Programming (OOP) is a programming paradigm based on the concept of \"objects\", which contain data (fields) and code (methods).  \n",
        " It promotes modularity, code reuse, and abstraction through principles like encapsulation, inheritance, and polymorphism.  \n",
        " Languages like Java, Python, and C++ use OOP to build scalable and maintainable applications.\n",
        "\n",
        "2. What is a class in OOP?\n",
        " - A class in OOP is a blueprint or template for creating objects.  \n",
        "  It defines attributes (variables) and methods (functions) that the objects created from the class will have.\n",
        "\n",
        "3. What is an object in OOP?\n",
        " - An object in OOP is an instance of a class that holds actual values for the\n",
        "  attributes defined in the class.  \n",
        "  It represents a real-world entity and can perform actions using its methods.  \n",
        "  For example, `myCar = Car()` creates an object `myCar` from the `Car` class.\n",
        "\n",
        "4. What is the difference between abstraction and encapsulation?\n",
        " - Abstraction hides complex implementation details and shows only the  \n",
        "  necessary features to the user, focusing on *what* an object does.  \n",
        "  Encapsulation binds data and methods together within a class and restricts direct access, focusing on *how* data is protected.  \n",
        "  In short, abstraction is about hiding complexity, while encapsulation is about hiding data.\n",
        "\n",
        "5. What are dunder methods in Python?\n",
        " - Dunder methods in Python are special methods with double underscores (like `__init__`, `__str__`) used to define object behavior for built-in operations.\n",
        "\n",
        "6. Explain the concept of inheritance in OOP?\n",
        " - Inheritance in OOP allows a class (child) to acquire properties and methods from another class (parent), promoting code reuse.\n",
        "\n",
        "7. What is polymorphism in OOP?\n",
        " - Polymorphism in OOP allows objects of different classes to be treated as instances of the same superclass, enabling method overriding or overloading.\n",
        "\n",
        "8. How is encapsulation achieved in Python?\n",
        " - Encapsulation in Python is achieved by using access modifiers like private (`__var`) and protected (`_var`) to restrict direct access to variables and methods.\n",
        "\n",
        "9. H What is a constructor in Python?\n",
        " - A constructor in Python is a special method named `__init__` that is automatically called when a new object is created to initialize its attributes.\n",
        "\n",
        "10. What are class and static methods in Python?\n",
        " - Class methods use the `@classmethod` decorator and take `cls` as the first argument to access or modify class state, while static methods use the `@staticmethod` decorator and don’t access class or instance data.\n",
        "\n",
        "11. What is method overloading in Python?\n",
        " - Method overloading in Python means defining multiple methods with the same name but different parameters, though Python doesn't support it natively and uses default arguments or `*args`/`**args` to achieve similar behavior.\n",
        "\n",
        "12. What is method overriding in OOP?\n",
        " - Method overriding in OOP is when a subclass provides its own implementation of a method already defined in its parent class, using the same name and parameters.\n",
        "\n",
        "13. What is a property decorator in Python?\n",
        " - The `@property` decorator in Python is used to define a method as a read-only property, allowing access like an attribute while using method logic internally.\n",
        "\n",
        "14. Why is polymorphism important in OOP?\n",
        "  - Polymorphism is important in OOP because it allows different objects to be treated through a common interface, enabling flexible and reusable code.\n",
        "\n",
        "15. What is an abstract class in Python?\n",
        " - An abstract class in Python is a class that cannot be instantiated and is used to define a common interface, containing one or more abstract methods using the `abc` module.\n",
        "\n",
        "16. What are the advantages of OOP?\n",
        " - Advantages of OOP include code reusability through inheritance, modularity via classes, easier maintenance, and improved scalability with abstraction and encapsulation.\n",
        "\n",
        "17.  What is the difference between a class variable and an instance variable?\n",
        " - A class variable is shared by all instances of a class, while an instance variable is unique to each object and defined inside the constructor.\n",
        "\n",
        "18. What is multiple inheritance in Python?\n",
        " - Multiple inheritance in Python allows a class to inherit from more than one parent class, combining their features into a single subclass.\n",
        "\n",
        "19. Explain the purpose of ‘’__str__’ and ‘__repr__’ ‘ methods in Python?\n",
        " - The `__str__` method returns a user-friendly string representation of an object, while `__repr__` returns an unambiguous string useful for debugging and development.\n",
        "\n",
        "20. What is the significance of the ‘super()’ function in Python?\n",
        " - The `super()` function in Python is used to call methods from a parent class, allowing access to inherited methods without explicitly naming the parent class.\n",
        "\n",
        "21. What is the significance of the __del__ method in Python?\n",
        " - The `__del__` method in Python is a destructor that is called when an object is about to be destroyed, used to perform cleanup tasks like closing files or releasing resources.\n",
        "\n",
        "22. What is the difference between @staticmethod and @classmethod in Python?\n",
        " - `@staticmethod` defines a method that doesn't access class or instance data, while `@classmethod` takes `cls` as the first parameter and can access or modify class-level data.\n",
        "\n",
        "23.  How does polymorphism work in Python with inheritance?\n",
        " - In Python, polymorphism with inheritance works by allowing a child class to override methods from the parent class, enabling different behaviors while using a common interface.\n",
        "\n",
        "24. What is method chaining in Python OOP?\n",
        " - Method chaining in Python OOP is the practice of calling multiple methods on the same object in a single line by returning `self` from each method.\n",
        "\n",
        "25. What is the purpose of the __call__ method in Python?\n",
        " - The `__call__` method in Python allows an object to be called like a function, enabling custom behavior when the object is \"called\" using parentheses.\n",
        "\n",
        "\n",
        "             ----- END OF THEORY QUESTIONS-------"
      ],
      "metadata": {
        "id": "rv7lVP1SQzXk"
      }
    },
    {
      "cell_type": "markdown",
      "source": [
        "# Practical Questions\n",
        "\n"
      ],
      "metadata": {
        "id": "fnVMxOW4Tr_j"
      }
    },
    {
      "cell_type": "code",
      "source": [
        "1. #Create a parent class Animal with a method speak() that prints a generic message. Create a child class Dog that overrides the speak() method to print \"Bark!\"?\n",
        "class Animal:\n",
        "    def speak(self):\n",
        "        print(\"The animal makes a sound.\")\n",
        "\n",
        "class Dog(Animal):\n",
        "    def speak(self):\n",
        "        print(\"Bark!\")\n",
        "\n",
        "a = Animal()\n",
        "a.speak()\n",
        "d = Dog()\n",
        "d.speak()"
      ],
      "metadata": {
        "colab": {
          "base_uri": "https://localhost:8080/"
        },
        "id": "55pyRxOaTxt4",
        "outputId": "95222db6-f3ab-406a-b294-22a51f10ac9f"
      },
      "execution_count": 6,
      "outputs": [
        {
          "output_type": "stream",
          "name": "stdout",
          "text": [
            "The animal makes a sound.\n",
            "Bark!\n"
          ]
        }
      ]
    },
    {
      "cell_type": "code",
      "source": [
        "2. # Write a program to create an abstract class Shape with a method area(). Derive classes Circle and Rectangle from it and implement the area() method in both?\n",
        "from abc import ABC, abstractmethod\n",
        "import math\n",
        "\n",
        "class Shape(ABC):\n",
        "    @abstractmethod\n",
        "    def area(self):\n",
        "        pass\n",
        "\n",
        "class Circle(Shape):\n",
        "    def __init__(self, radius):\n",
        "        self.radius = radius\n",
        "\n",
        "    def area(self):\n",
        "        return math.pi * self.radius ** 2\n",
        "\n",
        "class Rectangle(Shape):\n",
        "    def __init__(self, length, width):\n",
        "        self.length = length\n",
        "        self.width = width\n",
        "\n",
        "    def area(self):\n",
        "        return self.length * self.width\n",
        "c = Circle(5)\n",
        "r = Rectangle(4, 6)\n",
        "print(\"Circle area:\", c.area())\n",
        "print(\"Rectangle area:\", r.area())"
      ],
      "metadata": {
        "colab": {
          "base_uri": "https://localhost:8080/"
        },
        "id": "9aT5v9gSTzsW",
        "outputId": "72e5016a-8e07-45c7-b3d3-5f65a946164f"
      },
      "execution_count": 8,
      "outputs": [
        {
          "output_type": "stream",
          "name": "stdout",
          "text": [
            "Circle area: 78.53981633974483\n",
            "Rectangle area: 24\n"
          ]
        }
      ]
    },
    {
      "cell_type": "code",
      "source": [
        "3. # Implement a multi-level inheritance scenario where a class Vehicle has an attribute type. Derive a class Car and further derive a class ElectricCar that adds a battery attribute?\n",
        "class Vehicle:\n",
        "    def __init__(self, type):\n",
        "        self.type = type\n",
        "\n",
        "class Car(Vehicle):\n",
        "    def __init__(self, type, brand):\n",
        "        super().__init__(type)\n",
        "        self.brand = brand\n",
        "\n",
        "class ElectricCar(Car):\n",
        "    def __init__(self, type, brand, battery):\n",
        "        super().__init__(type, brand)\n",
        "        self.battery = battery\n",
        "\n",
        "ecar = ElectricCar(\"Four-wheeler\", \"Tesla\", \"75 kWh\")\n",
        "print(f\"Type: {ecar.type}, Brand: {ecar.brand}, Battery: {ecar.battery}\")"
      ],
      "metadata": {
        "colab": {
          "base_uri": "https://localhost:8080/"
        },
        "id": "hr5_d3gwUVw5",
        "outputId": "3d53b943-b8e3-469a-9cdb-95f6e91c5ac2"
      },
      "execution_count": 9,
      "outputs": [
        {
          "output_type": "stream",
          "name": "stdout",
          "text": [
            "Type: Four-wheeler, Brand: Tesla, Battery: 75 kWh\n"
          ]
        }
      ]
    },
    {
      "cell_type": "code",
      "source": [
        "4. #Demonstrate polymorphism by creating a base class Bird with a method fly(). Create two derived classes Sparrow and Penguin that override the fly() method?\n",
        "class Bird:\n",
        "    def fly(self):\n",
        "        print(\"Some birds can fly.\")\n",
        "\n",
        "class Sparrow(Bird):\n",
        "    def fly(self):\n",
        "        print(\"Sparrow flies high in the sky.\")\n",
        "\n",
        "class Penguin(Bird):\n",
        "    def fly(self):\n",
        "        print(\"Penguins cannot fly but can swim.\")\n",
        "\n",
        "birds = [Sparrow(), Penguin()]\n",
        "\n",
        "for bird in birds:\n",
        "    bird.fly()"
      ],
      "metadata": {
        "colab": {
          "base_uri": "https://localhost:8080/"
        },
        "id": "kDtUxMoEUhNV",
        "outputId": "1f03c086-0c98-47ab-f99d-b460ccb9a12a"
      },
      "execution_count": 10,
      "outputs": [
        {
          "output_type": "stream",
          "name": "stdout",
          "text": [
            "Sparrow flies high in the sky.\n",
            "Penguins cannot fly but can swim.\n"
          ]
        }
      ]
    },
    {
      "cell_type": "code",
      "source": [
        "5. #Write a program to demonstrate encapsulation by creating a class BankAccount with private attributes balance and methods to deposit, withdraw, and check balance?\n",
        "class BankAccount:\n",
        "    def __init__(self, initial_balance=0):\n",
        "        self.__balance = initial_balance\n",
        "\n",
        "    def deposit(self, amount):\n",
        "        if amount > 0:\n",
        "            self.__balance += amount\n",
        "\n",
        "    def withdraw(self, amount):\n",
        "        if 0 < amount <= self.__balance:\n",
        "            self.__balance -= amount\n",
        "\n",
        "    def get_balance(self):\n",
        "        return self.__balance\n",
        "\n",
        "acc = BankAccount(1000)\n",
        "acc.deposit(500)\n",
        "acc.withdraw(300)\n",
        "print(\"Current Balance:\", acc.get_balance())"
      ],
      "metadata": {
        "colab": {
          "base_uri": "https://localhost:8080/"
        },
        "id": "h3pxn5lfUrcx",
        "outputId": "c983570f-bfaf-41ce-fc33-7e4c3374db0a"
      },
      "execution_count": 11,
      "outputs": [
        {
          "output_type": "stream",
          "name": "stdout",
          "text": [
            "Current Balance: 1200\n"
          ]
        }
      ]
    },
    {
      "cell_type": "code",
      "source": [
        "6. # Demonstrate runtime polymorphism using a method play() in a base class Instrument. Derive classes Guitar and Piano that implement their own version of play()?\n",
        "class Instrument:\n",
        "    def play(self):\n",
        "        print(\"Playing an instrument.\")\n",
        "\n",
        "class Guitar(Instrument):\n",
        "    def play(self):\n",
        "        print(\"Strumming the guitar.\")\n",
        "\n",
        "class Piano(Instrument):\n",
        "    def play(self):\n",
        "        print(\"Playing the piano.\")\n",
        "\n",
        "instruments = [Guitar(), Piano()]\n",
        "\n",
        "for inst in instruments:\n",
        "    inst.play()\n"
      ],
      "metadata": {
        "colab": {
          "base_uri": "https://localhost:8080/"
        },
        "id": "75XjGme4U0t9",
        "outputId": "1cbc702c-202a-4cbf-b875-11aafaee2828"
      },
      "execution_count": 12,
      "outputs": [
        {
          "output_type": "stream",
          "name": "stdout",
          "text": [
            "Strumming the guitar.\n",
            "Playing the piano.\n"
          ]
        }
      ]
    },
    {
      "cell_type": "code",
      "source": [
        "7. #Create a class MathOperations with a class method add_numbers() to add two numbers and a static method subtract_numbers() to subtract two numbers?\n",
        "class MathOperations:\n",
        "    @classmethod\n",
        "    def add_numbers(cls, a, b):\n",
        "        return a + b\n",
        "\n",
        "    @staticmethod\n",
        "    def subtract_numbers(a, b):\n",
        "        return a - b\n",
        "\n",
        "print(\"Addition:\", MathOperations.add_numbers(10, 5))\n",
        "print(\"Subtraction:\", MathOperations.subtract_numbers(10, 5))\n"
      ],
      "metadata": {
        "colab": {
          "base_uri": "https://localhost:8080/"
        },
        "id": "Ijk234iFU9iK",
        "outputId": "473ad44d-3432-42a2-a9c6-a87407d2084a"
      },
      "execution_count": 13,
      "outputs": [
        {
          "output_type": "stream",
          "name": "stdout",
          "text": [
            "Addition: 15\n",
            "Subtraction: 5\n"
          ]
        }
      ]
    },
    {
      "cell_type": "code",
      "source": [
        "8. # Implement a class Person with a class method to count the total number of persons created ?\n",
        "class Person:\n",
        "    count = 0\n",
        "\n",
        "    def __init__(self, name):\n",
        "        self.name = name\n",
        "        Person.count += 1\n",
        "\n",
        "    @classmethod\n",
        "    def total_persons(cls):\n",
        "        return cls.count\n",
        "\n",
        "p1 = Person(\"Alice\")\n",
        "p2 = Person(\"Bob\")\n",
        "print(\"Total Persons:\", Person.total_persons())\n"
      ],
      "metadata": {
        "colab": {
          "base_uri": "https://localhost:8080/"
        },
        "id": "OrwHeFHDVPvD",
        "outputId": "09f960ab-daac-4285-cb66-19573bccd5dc"
      },
      "execution_count": 15,
      "outputs": [
        {
          "output_type": "stream",
          "name": "stdout",
          "text": [
            "Total Persons: 2\n"
          ]
        }
      ]
    },
    {
      "cell_type": "code",
      "source": [
        "9. #Write a class Fraction with attributes numerator and denominator. Override the str method to display the fraction as \"numerator/denominator?\n",
        "class Fraction:\n",
        "    def __init__(self, numerator, denominator):\n",
        "        self.numerator = numerator\n",
        "        self.denominator = denominator\n",
        "\n",
        "    def __str__(self):\n",
        "        return f\"{self.numerator}/{self.denominator}\"\n",
        "\n",
        "f = Fraction(3, 4)\n",
        "print(f)  # Output: 3/4\n"
      ],
      "metadata": {
        "colab": {
          "base_uri": "https://localhost:8080/"
        },
        "id": "KJB_M4O1VSkD",
        "outputId": "fe03d818-9f2a-4273-8399-1228e1de14c9"
      },
      "execution_count": 16,
      "outputs": [
        {
          "output_type": "stream",
          "name": "stdout",
          "text": [
            "3/4\n"
          ]
        }
      ]
    },
    {
      "cell_type": "code",
      "source": [
        "10. #Demonstrate operator overloading by creating a class Vector and overriding the add method to add two vectors?\n",
        "class Vector:\n",
        "    def __init__(self, x, y):\n",
        "        self.x = x\n",
        "        self.y = y\n",
        "\n",
        "    def __add__(self, other):\n",
        "        return Vector(self.x + other.x, self.y + other.y)\n",
        "\n",
        "    def __str__(self):\n",
        "        return f\"Vector({self.x}, {self.y})\"\n",
        "\n",
        "v1 = Vector(2, 3)\n",
        "v2 = Vector(4, 5)\n",
        "v3 = v1 + v2\n",
        "print(v3)\n"
      ],
      "metadata": {
        "colab": {
          "base_uri": "https://localhost:8080/"
        },
        "id": "jMgrmxafVehe",
        "outputId": "349ac4c7-eb17-4d4c-aa44-1801ccddacca"
      },
      "execution_count": 17,
      "outputs": [
        {
          "output_type": "stream",
          "name": "stdout",
          "text": [
            "Vector(6, 8)\n"
          ]
        }
      ]
    },
    {
      "cell_type": "code",
      "source": [
        "11. #Create a class Person with attributes name and age. Add a method greet() that prints \"Hello, my name is {name} and I am {age} years old?\n",
        "class Person:\n",
        "    def __init__(self, name, age):\n",
        "        self.name = name\n",
        "        self.age = age\n",
        "\n",
        "    def greet(self):\n",
        "        print(f\"Hello, my name is {self.name} and I am {self.age} years old.\")\n",
        "\n",
        "p = Person(\"Ryan\", 25)\n",
        "p.greet()"
      ],
      "metadata": {
        "colab": {
          "base_uri": "https://localhost:8080/"
        },
        "id": "nKGwrzhdVm6D",
        "outputId": "312c0cde-b19e-48d1-e83c-63304bd40843"
      },
      "execution_count": 22,
      "outputs": [
        {
          "output_type": "stream",
          "name": "stdout",
          "text": [
            "Hello, my name is Ryan and I am 25 years old.\n"
          ]
        }
      ]
    },
    {
      "cell_type": "code",
      "source": [
        "12. #Implement a class Student with attributes name and grades. Create a method average_grade() to compute the average of the grades?\n",
        "\n",
        "class Student:\n",
        "    def __init__(self, name, grades):\n",
        "        self.name = name\n",
        "        self.grades = grades\n",
        "\n",
        "    def average_grade(self):\n",
        "        return sum(self.grades) / len(self.grades)\n",
        "\n",
        "# Example usage\n",
        "s = Student(\"Emma\", [85, 90, 78])\n",
        "print(\"Average Grade:\", s.average_grade())"
      ],
      "metadata": {
        "colab": {
          "base_uri": "https://localhost:8080/"
        },
        "id": "a1KcUb1oVuo7",
        "outputId": "1714554e-6e40-4274-e97c-230f0b6e06c8"
      },
      "execution_count": 23,
      "outputs": [
        {
          "output_type": "stream",
          "name": "stdout",
          "text": [
            "Average Grade: 84.33333333333333\n"
          ]
        }
      ]
    },
    {
      "cell_type": "code",
      "source": [
        "13. #Create a class Rectangle with methods set_dimensions() to set the dimensions and area() to calculate the area.\n",
        "class Rectangle:\n",
        "    def set_dimensions(self, length, width):\n",
        "        self.length = length\n",
        "        self.width = width\n",
        "\n",
        "    def area(self):\n",
        "        return self.length * self.width\n",
        "\n",
        "# Example usage\n",
        "r = Rectangle()\n",
        "r.set_dimensions(5, 3)\n",
        "print(\"Area:\", r.area())\n"
      ],
      "metadata": {
        "colab": {
          "base_uri": "https://localhost:8080/"
        },
        "id": "RYzhCkP0WEhX",
        "outputId": "995b28ec-00f9-4892-e3b2-672f2bcfbebe"
      },
      "execution_count": 24,
      "outputs": [
        {
          "output_type": "stream",
          "name": "stdout",
          "text": [
            "Area: 15\n"
          ]
        }
      ]
    },
    {
      "cell_type": "code",
      "source": [
        "14. #Create a class Employee with a method calculate_salary() that computes the salary based on hours worked and hourly rate. Create a derived class Manager that adds a bonus to the salary?\n",
        "class Employee:\n",
        "    def __init__(self, hours_worked, hourly_rate):\n",
        "        self.hours_worked = hours_worked\n",
        "        self.hourly_rate = hourly_rate\n",
        "\n",
        "    def calculate_salary(self):\n",
        "        return self.hours_worked * self.hourly_rate\n",
        "\n",
        "class Manager(Employee):\n",
        "    def __init__(self, hours_worked, hourly_rate, bonus):\n",
        "        super().__init__(hours_worked, hourly_rate)\n",
        "        self.bonus = bonus\n",
        "\n",
        "    def calculate_salary(self):\n",
        "        return super().calculate_salary() + self.bonus\n",
        "\n",
        "e = Employee(40, 50)\n",
        "m = Manager(40, 50, 500)\n",
        "print(\"Employee Salary:\", e.calculate_salary())\n",
        "print(\"Manager Salary:\", m.calculate_salary())\n"
      ],
      "metadata": {
        "colab": {
          "base_uri": "https://localhost:8080/"
        },
        "id": "8M29LbIvWOjS",
        "outputId": "59feb71e-3400-42c4-8f72-a2906848afb4"
      },
      "execution_count": 25,
      "outputs": [
        {
          "output_type": "stream",
          "name": "stdout",
          "text": [
            "Employee Salary: 2000\n",
            "Manager Salary: 2500\n"
          ]
        }
      ]
    },
    {
      "cell_type": "code",
      "source": [
        "15.  #Create a class Product with attributes name, price, and quantity. Implement a method total_price() that calculates the total price of the product?\n",
        "class Product:\n",
        "    def __init__(self, name, price, quantity):\n",
        "        self.name = name\n",
        "        self.price = price\n",
        "        self.quantity = quantity\n",
        "\n",
        "    def total_price(self):\n",
        "        return self.price * self.quantity\n",
        "\n",
        "# Example usage\n",
        "p = Product(\"Laptop\", 50000, 2)\n",
        "print(\"Total Price:\", p.total_price())\n"
      ],
      "metadata": {
        "colab": {
          "base_uri": "https://localhost:8080/"
        },
        "id": "ZsZJA8K2WXyM",
        "outputId": "27daf02f-be7f-42d2-e9ca-d52a5a4ef84d"
      },
      "execution_count": 26,
      "outputs": [
        {
          "output_type": "stream",
          "name": "stdout",
          "text": [
            "Total Price: 100000\n"
          ]
        }
      ]
    },
    {
      "cell_type": "code",
      "source": [
        "16. #Create a class Animal with an abstract method sound(). Create two derived classes Cow and Sheep that implement the sound() method?\n",
        "from abc import ABC, abstractmethod\n",
        "\n",
        "class Animal(ABC):\n",
        "    @abstractmethod\n",
        "    def sound(self):\n",
        "        pass\n",
        "\n",
        "class Cow(Animal):\n",
        "    def sound(self):\n",
        "        print(\"Moo\")\n",
        "\n",
        "class Sheep(Animal):\n",
        "    def sound(self):\n",
        "        print(\"Baa\")\n",
        "\n",
        "c = Cow()\n",
        "s = Sheep()\n",
        "c.sound()\n",
        "s.sound()\n"
      ],
      "metadata": {
        "colab": {
          "base_uri": "https://localhost:8080/"
        },
        "id": "VYqvLBbNWkua",
        "outputId": "e4a1370b-e374-4c2d-d336-931b79c5adf2"
      },
      "execution_count": 27,
      "outputs": [
        {
          "output_type": "stream",
          "name": "stdout",
          "text": [
            "Moo\n",
            "Baa\n"
          ]
        }
      ]
    },
    {
      "cell_type": "code",
      "source": [
        "17. #Create a class Book with attributes title, author, and year_published. Add a method get_book_info() that returns a formatted string with the book's details?\n",
        "class Book:\n",
        "    def __init__(self, title, author, year_published):\n",
        "        self.title = title\n",
        "        self.author = author\n",
        "        self.year_published = year_published\n",
        "\n",
        "    def get_book_info(self):\n",
        "        return f\"'{self.title}' by {self.author}, published in {self.year_published}\"\n",
        "\n",
        "b = Book(\"To Kill a Mockingbird\", \"Harper Lee\", 1960)\n",
        "print(b.get_book_info())\n"
      ],
      "metadata": {
        "colab": {
          "base_uri": "https://localhost:8080/"
        },
        "id": "Cj8o4OMKWt4n",
        "outputId": "94eace72-f5f3-4df1-94ce-3d73449fdfe2"
      },
      "execution_count": 28,
      "outputs": [
        {
          "output_type": "stream",
          "name": "stdout",
          "text": [
            "'To Kill a Mockingbird' by Harper Lee, published in 1960\n"
          ]
        }
      ]
    },
    {
      "cell_type": "code",
      "source": [
        "18. # Create a class House with attributes address and price. Create a derived class Mansion that adds an attribute number_of_rooms?\n",
        "class House:\n",
        "    def __init__(self, address, price):\n",
        "        self.address = address\n",
        "        self.price = price\n",
        "\n",
        "class Mansion(House):\n",
        "    def __init__(self, address, price, number_of_rooms):\n",
        "        super().__init__(address, price)\n",
        "        self.number_of_rooms = number_of_rooms\n",
        "\n",
        "m = Mansion(\"123 Luxury St\", 5000000, 10)\n",
        "print(f\"Address: {m.address}, Price: {m.price}, Rooms: {m.number_of_rooms}\")\n"
      ],
      "metadata": {
        "colab": {
          "base_uri": "https://localhost:8080/"
        },
        "id": "ptf7OIG4W5IZ",
        "outputId": "82986ac1-29ee-4f77-b860-e8a178d87a41"
      },
      "execution_count": 29,
      "outputs": [
        {
          "output_type": "stream",
          "name": "stdout",
          "text": [
            "Address: 123 Luxury St, Price: 5000000, Rooms: 10\n"
          ]
        }
      ]
    },
    {
      "cell_type": "markdown",
      "source": [
        " ---- END OF PRATICAL QUESTIONS -----"
      ],
      "metadata": {
        "id": "JytvkAsNXDl7"
      }
    }
  ]
}