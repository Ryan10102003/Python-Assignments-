{
  "nbformat": 4,
  "nbformat_minor": 0,
  "metadata": {
    "colab": {
      "provenance": []
    },
    "kernelspec": {
      "name": "python3",
      "display_name": "Python 3"
    },
    "language_info": {
      "name": "python"
    }
  },
  "cells": [
    {
      "cell_type": "markdown",
      "source": [
        "# Data Types and Structures Questions"
      ],
      "metadata": {
        "id": "9w_GESiRi5Nn"
      }
    },
    {
      "cell_type": "markdown",
      "source": [
        "1. What are data structures, and why are they important?\n",
        " -  A data structure is a way of organizing, storing, and managing data in a computer so that it can be used efficiently. It defines the relationship between data elements and the operations that can be performed on them.\n",
        "\n",
        "\n",
        "2. Explain the difference between mutable and immutable data types with examples?\n",
        " - Mutable data types, such as lists, dictionaries, and sets, allow modifications after creation by altering the existing object in memory, whereas immutable data types, including integers, strings, and tuples, do not permit direct changes, and any modification results in the creation of a new object with a different memory address.\n",
        "\n",
        "\n",
        "3. What are the main differences between lists and tuples in Python?\n",
        " - Lists and tuples are both used to store collections of items in Python, but they have key differences.\n",
        "   - i.> Lists are mutable, meaning their elements can be changed, added, or removed, while **tuples** are **immutable**, meaning they cannot be modified after creation.\n",
        "  - ii.> Lists use more memory and have slower access times compared to tuples, which are more memory-efficient and faster due to their fixed size. Lists are defined using square brackets `[]`, whereas tuples are defined using parentheses `()`.\n",
        "\n",
        "\n",
        "4. Describe how dictionaries store data?\n",
        " - Dictionaries in Python store data in **key-value pairs**, like a real-world dictionary where words (keys) have meanings (values). They use a special system called **hashing** to quickly find values based on their keys. Keys must be **unchangeable** (like strings or numbers), but values can be anything. Dictionaries are created using **curly braces `{}`** and are great for fast lookups, adding, and removing data.\n",
        "\n",
        "\n",
        "5. Why might you use a set instead of a list in Python?\n",
        " - A set is used instead of a list when you need to store unique elements, as sets automatically remove duplicates and use hashing for quick searches.\n",
        "\n",
        "\n",
        "6. What is a string in Python, and how is it different from a list?\n",
        " - A **string** in Python is an immutable sequence of characters enclosed in quotes (`\"\"` or `''`), whereas a **list** is a **mutable sequence** that can hold different data types. Unlike lists, strings cannot be modified directly, and any changes create a new string.\n",
        "\n",
        "\n",
        "7. How do tuples ensure data integrity in Python?\n",
        " - Tuples ensure data integrity in Python by being immutable, meaning their elements cannot be changed, added, or removed after creation.\n",
        "\n",
        "\n",
        "8. What is a hash table, and how does it relate to dictionaries in Python?\n",
        "  - A hash table is a data structure that stores key-value pairs using a hashing function to map keys to memory location for fast access. In Python, dictionaries are implemented using hash tables, allowing for efficient lookups, insertions, and deletions with an average time complexity of O(1).\n",
        "\n",
        "\n",
        "9. Can lists contain different data types in Python?\n",
        "  - Yes, lists in Python can contain different data types, including integers, strings, floats, other lists, and even custom objects, as they are **heterogeneous** and dynamically sized.\n",
        "\n",
        "\n",
        "10. Explain why strings are immutable in Python?\n",
        "  - Strings are immutable in Python because they are stored as fixed sequences of characters in memory, and modifying them would require creating a new string.\n",
        "\n",
        "\n",
        "11. What advantages do dictionaries offer over lists for certain tasks?\n",
        "  - Dictionaries are better than lists when you need to find data quickly, as they use keys instead of searching through items one by one. They help in organizing data, storing unique key-value pairs, and making lookups faster.\n",
        "\n",
        "\n",
        "12. Describe a scenario where using a tuple would be preferable over a list?\n",
        "  - A tuple is better than a list when you need to store fixed data that shouldn't change, such as **coordinates (x, y)**, database records, or months of the year, ensuring data remains safe and unchanged throughout the program.\n",
        "\n",
        "\n",
        "13. How do sets handle duplicate values in Python?\n",
        "  - Sets in Python automatically remove duplicate values, ensuring that each element is unique. When adding items to a set, Python checks for duplicates and only keeps one copy, making sets useful for eliminating repeated data.\n",
        "\n",
        "\n",
        "14. How does the “in” keyword work differently for lists and dictionaries?\n",
        " - In a list, the **\"in\"** keyword checks each item one by one to see if it exists, which can be slow. In a dictionary, it only checks the keys using a fast lookup system, making it much quicker.\n",
        "\n",
        "\n",
        "15. Can you modify the elements of a tuple? Explain why or why not?\n",
        " - No, you **cannot** modify the elements of a tuple because tuples are immutable in Python. Once created, their values **cannot be changed, added, or removed**, ensuring data integrity and making them safer for storing fixed information.\n",
        "\n",
        "\n",
        "16. What is a nested dictionary, and give an example of its use case?\n",
        "  - A nested dictionary is a dictionary that contains another dictionary as a value. It is useful for organizing structured data, such as storing student records or product details.\n",
        "\n",
        " - Use Case:\n",
        "students = {\n",
        "    \"Ryan\": {\"age\": 21, \"grade\": \"A\"},\n",
        "    \"Ajay\": {\"age\": 22, \"grade\": \"B\"}\n",
        "  }\n",
        "print(students[\"Ryan\"][\"grade\"]) # Output: A\n",
        "This structure helps manage complex data relationships efficiently.\n",
        "\n",
        "\n",
        "17. Describe the time complexity of accessing elements in a dictionary?\n",
        " - Looking up an item in a dictionary is usually very fast (O(1)) because Python uses a hash table to find keys quickly. In rare cases, if multiple keys get stored in the same spot (hash collision), it can take longer (O(n)), but this is uncommon.\n",
        "\n",
        "\n",
        "18. In what situations are lists preferred over dictionaries?\n",
        " - Lists are preferred over dictionaries when **order matters**, such as handling sequences of data, iterating in a specific order, or storing multiple values without unique keys. They are also simpler and use less memory when key-value pairs are not needed.\n",
        "\n",
        "\n",
        "19. Why are dictionaries considered unordered, and how does that affect data retrieval?\n",
        "  - Before Python 3.7, dictionaries didn’t keep items in order because they used a special storage system. Now, they remember the order in which items were added, but they still find values using keys, not positions, which makes lookups quick.\n",
        "\n",
        "\n",
        "20. Explain the difference between a list and a dictionary in terms of data retrieval?\n",
        "  - A list retrieves data using an index, meaning you need to know the exact position of an item to access it quickly. If you search for a value without knowing its index, Python checks each item one by one, which can be slow for large lists.  \n",
        "  - A dictionary retrieves data using keys, allowing for fast lookups. Instead of searching through all values, Python uses a hash table to find the key instantly, making dictionaries much faster and more efficient for retrieving specific pieces of data.\n",
        "\n",
        "\n",
        "  ---- **END OF Data Types and Structures Questions**---"
      ],
      "metadata": {
        "id": "MzZLN5_Ei9ub"
      }
    },
    {
      "cell_type": "markdown",
      "source": [
        "# Practical Questions"
      ],
      "metadata": {
        "id": "IPYm13Cppr3n"
      }
    },
    {
      "cell_type": "code",
      "source": [
        "1. #Write a code to create a string with your name and print it?\n",
        "\n",
        "name = \"Ryan\"\n",
        "print(name)"
      ],
      "metadata": {
        "colab": {
          "base_uri": "https://localhost:8080/"
        },
        "id": "8PbcHPoip1Bd",
        "outputId": "60e7a5e6-13f6-470a-8147-570ec503ec2e"
      },
      "execution_count": null,
      "outputs": [
        {
          "output_type": "stream",
          "name": "stdout",
          "text": [
            "Ryan\n"
          ]
        }
      ]
    },
    {
      "cell_type": "code",
      "source": [
        "2. #Write a code to find the length of the string \"Hello World\"?\n",
        "\n",
        "text = \"Hello World\"\n",
        "length = len(text)\n",
        "print(length)"
      ],
      "metadata": {
        "colab": {
          "base_uri": "https://localhost:8080/"
        },
        "id": "seJCxtMnp7h2",
        "outputId": "020396ce-977d-42a4-8358-6c32f0ff71db"
      },
      "execution_count": null,
      "outputs": [
        {
          "output_type": "stream",
          "name": "stdout",
          "text": [
            "11\n"
          ]
        }
      ]
    },
    {
      "cell_type": "code",
      "source": [
        "3. #Write a code to slice the first 3 characters from the string \"Python Programming\"?\n",
        "\n",
        "str = \"Python Programming\"\n",
        "sliced_string = str[:3]  # Gets the first 3 characters\n",
        "print(sliced_string)"
      ],
      "metadata": {
        "colab": {
          "base_uri": "https://localhost:8080/"
        },
        "id": "RphTlz_6qVVU",
        "outputId": "715f6625-d7cc-4556-9edc-883a07abc861"
      },
      "execution_count": null,
      "outputs": [
        {
          "output_type": "stream",
          "name": "stdout",
          "text": [
            "Pyt\n"
          ]
        }
      ]
    },
    {
      "cell_type": "code",
      "source": [
        "4. #Write a code to convert the string \"hello\" to uppercase?\n",
        "\n",
        "text = \"hello\"\n",
        "uppercase_text = text.upper()\n",
        "print(uppercase_text)"
      ],
      "metadata": {
        "colab": {
          "base_uri": "https://localhost:8080/"
        },
        "id": "V3ZSa-0YqniC",
        "outputId": "b99c4cbe-3120-4e04-d1a2-fac2893508f3"
      },
      "execution_count": null,
      "outputs": [
        {
          "output_type": "stream",
          "name": "stdout",
          "text": [
            "HELLO\n"
          ]
        }
      ]
    },
    {
      "cell_type": "code",
      "source": [
        "5. # Write a code to replace the word \"apple\" with \"orange\" in the string \"I like apple\"?\n",
        "\n",
        "text = \"I like apple\"\n",
        "new_text = text.replace(\"apple\", \"orange\")\n",
        "print(new_text)"
      ],
      "metadata": {
        "colab": {
          "base_uri": "https://localhost:8080/"
        },
        "id": "VXL0PjT-qxQe",
        "outputId": "37fd7c1b-daae-4422-839a-afcddbc48ba5"
      },
      "execution_count": null,
      "outputs": [
        {
          "output_type": "stream",
          "name": "stdout",
          "text": [
            "I like orange\n"
          ]
        }
      ]
    },
    {
      "cell_type": "code",
      "source": [
        "6. #Write a code to create a list with numbers 1 to 5 and print it?\n",
        "\n",
        "numb = [1, 2, 3, 4, 5]\n",
        "print(numb)"
      ],
      "metadata": {
        "colab": {
          "base_uri": "https://localhost:8080/"
        },
        "id": "ZL9rSw49q6ba",
        "outputId": "29c53e30-630c-4911-eb29-e44105674c16"
      },
      "execution_count": null,
      "outputs": [
        {
          "output_type": "stream",
          "name": "stdout",
          "text": [
            "[1, 2, 3, 4, 5]\n"
          ]
        }
      ]
    },
    {
      "cell_type": "code",
      "source": [
        "7.#Write a code to append the number 10 to the list [1, 2, 3, 4]?\n",
        "\n",
        "numb = [1, 2, 3, 4]\n",
        "numb.append(10)\n",
        "print(numb)"
      ],
      "metadata": {
        "colab": {
          "base_uri": "https://localhost:8080/"
        },
        "id": "yNm80rscrDOd",
        "outputId": "ede69f6c-d498-4948-eb1e-21ececc0fee3"
      },
      "execution_count": null,
      "outputs": [
        {
          "output_type": "stream",
          "name": "stdout",
          "text": [
            "[1, 2, 3, 4, 10]\n"
          ]
        }
      ]
    },
    {
      "cell_type": "code",
      "source": [
        "8. #Write a code to remove the number 3 from the list [1, 2, 3, 4, 5]?\n",
        "\n",
        "numb = [1, 2, 3, 4, 5]\n",
        "numb.remove(3)\n",
        "print(numb)"
      ],
      "metadata": {
        "colab": {
          "base_uri": "https://localhost:8080/"
        },
        "id": "2PKwPydUrM09",
        "outputId": "7baa5744-a487-4cd4-dd86-cafb66c76585"
      },
      "execution_count": null,
      "outputs": [
        {
          "output_type": "stream",
          "name": "stdout",
          "text": [
            "[1, 2, 4, 5]\n"
          ]
        }
      ]
    },
    {
      "cell_type": "code",
      "source": [
        "9. #Write a code to access the second element in the list ['a', 'b', 'c', 'd']?\n",
        "\n",
        "letters = ['a', 'b', 'c', 'd']\n",
        "second_element = letters[1]\n",
        "print(second_element)"
      ],
      "metadata": {
        "colab": {
          "base_uri": "https://localhost:8080/"
        },
        "id": "VY4mBSJ_rTUn",
        "outputId": "b573bdec-b84c-4501-c886-878c22289318"
      },
      "execution_count": null,
      "outputs": [
        {
          "output_type": "stream",
          "name": "stdout",
          "text": [
            "b\n"
          ]
        }
      ]
    },
    {
      "cell_type": "code",
      "source": [
        "10. #Write a code to reverse the list [10, 20, 30, 40, 50]?\n",
        "\n",
        "numb = [10, 20, 30, 40, 50]\n",
        "numb.reverse()\n",
        "print(numb)"
      ],
      "metadata": {
        "colab": {
          "base_uri": "https://localhost:8080/"
        },
        "id": "VlgA7cMpre2i",
        "outputId": "c9eec58e-a9d0-4be9-d992-92cc414c0170"
      },
      "execution_count": null,
      "outputs": [
        {
          "output_type": "stream",
          "name": "stdout",
          "text": [
            "[50, 40, 30, 20, 10]\n"
          ]
        }
      ]
    },
    {
      "cell_type": "code",
      "source": [
        "11. #Write a code to create a tuple with the elements 100, 200, 300 and print it?\n",
        "\n",
        "my_tuple = (100, 200, 300)\n",
        "print(my_tuple)\n"
      ],
      "metadata": {
        "colab": {
          "base_uri": "https://localhost:8080/"
        },
        "id": "qtz6tqaLrl0H",
        "outputId": "0a6e132a-518f-4fbd-af65-626dae3a8d33"
      },
      "execution_count": null,
      "outputs": [
        {
          "output_type": "stream",
          "name": "stdout",
          "text": [
            "(100, 200, 300)\n"
          ]
        }
      ]
    },
    {
      "cell_type": "code",
      "source": [
        "12. # Write a code to access the second-to-last element of the tuple ('red', 'green', 'blue', 'yellow')?\n",
        "\n",
        "colors = ('red', 'green', 'blue', 'yellow')\n",
        "second_to_last = colors[-2]\n",
        "print(second_to_last)"
      ],
      "metadata": {
        "colab": {
          "base_uri": "https://localhost:8080/"
        },
        "id": "wdvIMryZrvgf",
        "outputId": "4e24271c-cd1e-4dab-e003-87bd1741995d"
      },
      "execution_count": null,
      "outputs": [
        {
          "output_type": "stream",
          "name": "stdout",
          "text": [
            "blue\n"
          ]
        }
      ]
    },
    {
      "cell_type": "code",
      "source": [
        "13.# Write a code to find the minimum number in the tuple (10, 20, 5, 15)?\n",
        "\n",
        "my_tuple = (10, 20, 5, 15)\n",
        "min_number = min(my_tuple)\n",
        "print(min_number)"
      ],
      "metadata": {
        "colab": {
          "base_uri": "https://localhost:8080/"
        },
        "id": "qCphroHTr2VO",
        "outputId": "4c27c95e-304b-4eca-d67b-147379f75066"
      },
      "execution_count": null,
      "outputs": [
        {
          "output_type": "stream",
          "name": "stdout",
          "text": [
            "5\n"
          ]
        }
      ]
    },
    {
      "cell_type": "code",
      "source": [
        "14. #Write a code to find the index of the element \"cat\" in the tuple ('dog', 'cat', 'rabbit')?\n",
        "\n",
        "animals = ('dog', 'cat', 'rabbit')\n",
        "index = animals.index('cat')\n",
        "print(index)"
      ],
      "metadata": {
        "colab": {
          "base_uri": "https://localhost:8080/"
        },
        "id": "HcvwEqJer9Cm",
        "outputId": "3b441c39-061c-426c-bd57-b23112a7fdab"
      },
      "execution_count": null,
      "outputs": [
        {
          "output_type": "stream",
          "name": "stdout",
          "text": [
            "1\n"
          ]
        }
      ]
    },
    {
      "cell_type": "code",
      "source": [
        "15. #Write a code to create a tuple containing three different fruits and check if \"kiwi\" is in it?\n",
        "\n",
        "fruits = ('apple', 'banana', 'orange')\n",
        "is_kiwi_in_tuple = 'kiwi' in fruits\n",
        "print(is_kiwi_in_tuple)"
      ],
      "metadata": {
        "colab": {
          "base_uri": "https://localhost:8080/"
        },
        "id": "-onaT4v4sJ6c",
        "outputId": "fada44e9-c770-4625-a61c-3f4139cbbfda"
      },
      "execution_count": null,
      "outputs": [
        {
          "output_type": "stream",
          "name": "stdout",
          "text": [
            "False\n"
          ]
        }
      ]
    },
    {
      "cell_type": "code",
      "source": [
        "16. #Write a code to create a set with the elements 'a', 'b', 'c' and print it?\n",
        "\n",
        "set = {'a', 'b', 'c'}\n",
        "print(set)"
      ],
      "metadata": {
        "colab": {
          "base_uri": "https://localhost:8080/"
        },
        "id": "DVRa2Ys1sQx2",
        "outputId": "3478dbe5-ecf2-4d76-e889-b8a211cb8fd6"
      },
      "execution_count": null,
      "outputs": [
        {
          "output_type": "stream",
          "name": "stdout",
          "text": [
            "{'b', 'a', 'c'}\n"
          ]
        }
      ]
    },
    {
      "cell_type": "code",
      "source": [
        "17. #Write a code to clear all elements from the set {1, 2, 3, 4, 5}?\n",
        "\n",
        "my_set = {1, 2, 3, 4, 5}\n",
        "my_set.clear()\n",
        "print(my_set)   # Output: set()"
      ],
      "metadata": {
        "colab": {
          "base_uri": "https://localhost:8080/"
        },
        "id": "5jo0bGLTsf8O",
        "outputId": "478c8962-39cc-4135-a450-cd5d468b8822"
      },
      "execution_count": null,
      "outputs": [
        {
          "output_type": "stream",
          "name": "stdout",
          "text": [
            "set()\n"
          ]
        }
      ]
    },
    {
      "cell_type": "code",
      "source": [
        "18.  #Write a code to remove the element 4 from the set {1, 2, 3, 4}?\n",
        "\n",
        "my_set = {1, 2, 3, 4}\n",
        "my_set.remove(4)\n",
        "print(my_set)"
      ],
      "metadata": {
        "colab": {
          "base_uri": "https://localhost:8080/"
        },
        "id": "MmK7Jk44soOg",
        "outputId": "a8e97d24-1186-43e1-857e-bbfb7dac19d6"
      },
      "execution_count": null,
      "outputs": [
        {
          "output_type": "stream",
          "name": "stdout",
          "text": [
            "{1, 2, 3}\n"
          ]
        }
      ]
    },
    {
      "cell_type": "code",
      "source": [
        "19. # Write a code to find the union of two sets {1, 2, 3} and {3, 4, 5}?\n",
        "\n",
        "set1 = {1, 2, 3}\n",
        "set2 = {3, 4, 5}\n",
        "union_set = set1.union(set2)\n",
        "print(union_set)  # Output: {1, 2, 3, 4, 5}"
      ],
      "metadata": {
        "colab": {
          "base_uri": "https://localhost:8080/"
        },
        "id": "uYgF8pnHszcb",
        "outputId": "3d36ed4b-1844-483f-8b5b-ba179e6b19c1"
      },
      "execution_count": null,
      "outputs": [
        {
          "output_type": "stream",
          "name": "stdout",
          "text": [
            "{1, 2, 3, 4, 5}\n"
          ]
        }
      ]
    },
    {
      "cell_type": "code",
      "source": [
        "20. # Write a code to find the intersection of two sets {1, 2, 3} and {2, 3, 4}?\n",
        "\n",
        "set1 = {1, 2, 3}\n",
        "set2 = {2, 3, 4}\n",
        "intersection_set = set1.intersection(set2)\n",
        "print(intersection_set)  # Output: {2, 3}\n"
      ],
      "metadata": {
        "colab": {
          "base_uri": "https://localhost:8080/"
        },
        "id": "gGaG6rc-s8Xg",
        "outputId": "ef1aa05e-e8b2-4140-8132-39759569186f"
      },
      "execution_count": null,
      "outputs": [
        {
          "output_type": "stream",
          "name": "stdout",
          "text": [
            "{2, 3}\n"
          ]
        }
      ]
    },
    {
      "cell_type": "code",
      "source": [
        "21. #Write a code to create a dictionary with the keys \"name\", \"age\", and \"city\", and print it?`\n",
        "\n",
        "person = {\"name\": \"Ryan\", \"age\": 21, \"city\": \"Mumbai\"}\n",
        "print(person)"
      ],
      "metadata": {
        "colab": {
          "base_uri": "https://localhost:8080/"
        },
        "id": "yxfRwL3mtCrM",
        "outputId": "71914d60-ed94-4ad1-859b-12df50a84c6a"
      },
      "execution_count": null,
      "outputs": [
        {
          "output_type": "stream",
          "name": "stdout",
          "text": [
            "{'name': 'Ryan', 'age': 21, 'city': 'Mumbai'}\n"
          ]
        }
      ]
    },
    {
      "cell_type": "code",
      "source": [
        "22. # Write a code to add a new key-value pair \"country\": \"USA\" to the dictionary {'name': 'John', 'age': 25}?\n",
        "\n",
        "person = {'name': 'John', 'age': 25}\n",
        "person['country'] = 'USA'\n",
        "print(person)"
      ],
      "metadata": {
        "colab": {
          "base_uri": "https://localhost:8080/"
        },
        "id": "1iFarcB6tM71",
        "outputId": "56b9b347-4da5-41d4-8a9e-1db43864ee98"
      },
      "execution_count": null,
      "outputs": [
        {
          "output_type": "stream",
          "name": "stdout",
          "text": [
            "{'name': 'John', 'age': 25, 'country': 'USA'}\n"
          ]
        }
      ]
    },
    {
      "cell_type": "code",
      "source": [
        "23. # Write a code to access the value associated with the key \"name\" in the dictionary {'name': 'Alice', 'age': 30}?\n",
        "\n",
        "person = {'name': 'Alice', 'age': 30}\n",
        "name_value = person['name']\n",
        "print(name_value)"
      ],
      "metadata": {
        "colab": {
          "base_uri": "https://localhost:8080/"
        },
        "id": "CcPdAGvEtaM-",
        "outputId": "bf1ec5fc-41c5-471a-919a-5775620789f3"
      },
      "execution_count": null,
      "outputs": [
        {
          "output_type": "stream",
          "name": "stdout",
          "text": [
            "Alice\n"
          ]
        }
      ]
    },
    {
      "cell_type": "code",
      "source": [
        "24. #Write a code to remove the key \"age\" from the dictionary {'name': 'Bob', 'age': 22, 'city': 'New York'}?\n",
        "\n",
        "person = {'name': 'Bob', 'age': 22, 'city': 'New York'}\n",
        "del person['age']\n",
        "print(person)"
      ],
      "metadata": {
        "colab": {
          "base_uri": "https://localhost:8080/"
        },
        "id": "nRorQcxXtgc_",
        "outputId": "7787d791-d825-4769-c6d9-65b955dc3c7a"
      },
      "execution_count": null,
      "outputs": [
        {
          "output_type": "stream",
          "name": "stdout",
          "text": [
            "{'name': 'Bob', 'city': 'New York'}\n"
          ]
        }
      ]
    },
    {
      "cell_type": "code",
      "source": [
        "25. #Write a code to check if the key \"city\" exists in the dictionary {'name': 'Alice', 'city': 'Paris'}?\n",
        "\n",
        "person = {'name': 'Alice', 'city': 'Paris'}\n",
        "city_exists = 'city' in person\n",
        "print(city_exists)"
      ],
      "metadata": {
        "colab": {
          "base_uri": "https://localhost:8080/"
        },
        "id": "zjjIqQt3tmhE",
        "outputId": "dea4e8cf-61a0-4575-cfe2-30d796cc0f05"
      },
      "execution_count": null,
      "outputs": [
        {
          "output_type": "stream",
          "name": "stdout",
          "text": [
            "True\n"
          ]
        }
      ]
    },
    {
      "cell_type": "code",
      "source": [
        "26. #Write a code to create a list, a tuple, and a dictionary, and print them all?\n",
        "\n",
        "my_list = [1, 2, 3, 4, 5]\n",
        "my_tuple = (10, 20, 30)\n",
        "my_dict = {\"name\": \"Ryan\", \"age\": 21, \"city\": \"Mumbai\"}\n",
        "\n",
        "print(\"List:\", my_list)\n",
        "print(\"Tuple:\", my_tuple)\n",
        "print(\"Dictionary:\", my_dict)"
      ],
      "metadata": {
        "colab": {
          "base_uri": "https://localhost:8080/"
        },
        "id": "w0E4rjVbtwlM",
        "outputId": "a15ea6b3-2b9a-4c18-8110-440e35c9544a"
      },
      "execution_count": null,
      "outputs": [
        {
          "output_type": "stream",
          "name": "stdout",
          "text": [
            "List: [1, 2, 3, 4, 5]\n",
            "Tuple: (10, 20, 30)\n",
            "Dictionary: {'name': 'Ryan', 'age': 21, 'city': 'Mumbai'}\n"
          ]
        }
      ]
    },
    {
      "cell_type": "code",
      "source": [
        "27. #Write a code to create a list of 5 random numbers between 1 and 100, sort it in ascending order, and print the result.(replaced)?\n",
        "\n",
        "import random\n",
        "random_numbers = random.sample(range(1, 101), 5)\n",
        "random_numbers.sort() # Sort the list in ascending order\n",
        "print(random_numbers)"
      ],
      "metadata": {
        "colab": {
          "base_uri": "https://localhost:8080/"
        },
        "id": "ULL44oMMt4k5",
        "outputId": "2f5e62fc-0f25-444a-bb8b-919eb2e2afb5"
      },
      "execution_count": null,
      "outputs": [
        {
          "output_type": "stream",
          "name": "stdout",
          "text": [
            "[3, 15, 75, 82, 99]\n"
          ]
        }
      ]
    },
    {
      "cell_type": "code",
      "source": [
        "28. #Write a code to create a list with strings and print the element at the third index?\n",
        "\n",
        "my_list = [\"apple\", \"banana\", \"cherry\", \"date\", \"elderberry\"]\n",
        "print(my_list[3])  # Output: date"
      ],
      "metadata": {
        "colab": {
          "base_uri": "https://localhost:8080/"
        },
        "id": "cw4QSGGtuOgL",
        "outputId": "59a2a5fd-6f02-4c9f-847b-6524d58a8152"
      },
      "execution_count": null,
      "outputs": [
        {
          "output_type": "stream",
          "name": "stdout",
          "text": [
            "date\n"
          ]
        }
      ]
    },
    {
      "cell_type": "code",
      "source": [
        "29. #Write a code to combine two dictionaries into one and print the result?\n",
        "\n",
        "dict1 = {\"a\": 1, \"b\": 2}\n",
        "dict2 = {\"c\": 3, \"d\": 4}\n",
        "\n",
        "combined_dict = {**dict1, **dict2}\n",
        "\n",
        "print(combined_dict)"
      ],
      "metadata": {
        "colab": {
          "base_uri": "https://localhost:8080/"
        },
        "id": "nRkATzh7urA-",
        "outputId": "5128e48b-4f5f-49f7-f301-3d7ca85f8250"
      },
      "execution_count": null,
      "outputs": [
        {
          "output_type": "stream",
          "name": "stdout",
          "text": [
            "{'a': 1, 'b': 2, 'c': 3, 'd': 4}\n"
          ]
        }
      ]
    },
    {
      "cell_type": "code",
      "source": [
        "30.  #Write a code to convert a list of strings into a set?\n",
        "\n",
        "my_list = [\"apple\", \"banana\", \"cherry\", \"apple\"]\n",
        "my_set1 = set(my_list)\n",
        "print(my_set1)"
      ],
      "metadata": {
        "colab": {
          "base_uri": "https://localhost:8080/"
        },
        "id": "Y-nsimR7u5LY",
        "outputId": "8562cf31-89c2-44bd-8dea-d9f2801844c7"
      },
      "execution_count": null,
      "outputs": [
        {
          "output_type": "stream",
          "name": "stdout",
          "text": [
            "{'cherry', 'banana', 'apple'}\n"
          ]
        }
      ]
    },
    {
      "cell_type": "markdown",
      "source": [
        "--- **END OF PRACTICAL QUESTIONS** ---"
      ],
      "metadata": {
        "id": "P27lj2sIwQCe"
      }
    }
  ]
}