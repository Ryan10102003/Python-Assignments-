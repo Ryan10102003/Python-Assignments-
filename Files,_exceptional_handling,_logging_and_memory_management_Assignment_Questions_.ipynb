{
  "nbformat": 4,
  "nbformat_minor": 0,
  "metadata": {
    "colab": {
      "provenance": []
    },
    "kernelspec": {
      "name": "python3",
      "display_name": "Python 3"
    },
    "language_info": {
      "name": "python"
    }
  },
  "cells": [
    {
      "cell_type": "markdown",
      "source": [
        "#Files, exceptional handling, logging and memory management Theory Questions\n",
        "\n",
        "1. What is the difference between interpreted and compiled languages?\n",
        " - Interpreted languages run code line-by-line using an interpreter (e.g., Python), while compiled languages convert the entire code into machine code before execution (e.g., C++).\n",
        "\n",
        "2. What is exception handling in Python?\n",
        " - Exception handling in Python is used to catch and manage errors using `try`, `except`, `finally`, and `else` blocks to prevent program crashes.\n",
        "\n",
        "3. What is the purpose of the finally block in exception handling?\n",
        " - The `finally` block is used to execute code regardless of whether an exception occurred or not, typically for cleanup actions.\n",
        "\n",
        "4.  What is logging in Python?\n",
        " - Logging in Python is used to record messages or events during program execution for debugging or tracking purposes using the `logging` module.\n",
        "\n",
        "5. What is the significance of the __del__ method in Python?\n",
        " - The `__del__` method is a destructor called when an object is about to be destroyed, used for cleanup like closing files or releasing resources.\n",
        "\n",
        "6. What is the difference between import and from ... import in Python?\n",
        " - `import` loads the whole module (e.g., `import math`), while `from ... import` loads specific parts (e.g., `from math import sqrt`).\n",
        "\n",
        "7.  How can you handle multiple exceptions in Python?\n",
        " - You can handle multiple exceptions using multiple `except` blocks or a single `except` block with a tuple of exceptions.  \n",
        "Example: `except (TypeError, ValueError):`\n",
        "\n",
        "8. What is the purpose of the with statement when handling files in Python?\n",
        " - The `with` statement ensures proper acquisition and release of resources, automatically closing the file after operations, even if an error occurs.\n",
        "\n",
        "9. What is the difference between multithreading and multiprocessing?\n",
        " - Multithreading runs multiple threads in a single process, sharing memory; multiprocessing runs multiple processes, each with its own memory, ideal for CPU-bound tasks.\n",
        "\n",
        "10.  What are the advantages of using logging in a program?\n",
        " - Logging helps track events, debug errors, monitor application flow, and maintain logs without interrupting program execution.\n",
        "\n",
        "11. What is memory management in Python?\n",
        " - Memory management in Python involves allocating and freeing memory using private heap space, with automatic garbage collection for unused objects.\n",
        "\n",
        "12. What are the basic steps involved in exception handling in Python?\n",
        " - 1. Use `try` to wrap code that may cause an exception.  \n",
        " - 2. Use `except` to catch and handle exceptions.  \n",
        " - 3. Optionally use `else` for code to run if no exception occurs.  \n",
        " - 4. Use `finally` for cleanup code that runs no matter what.\n",
        "\n",
        "13. Why is memory management important in Python?\n",
        " - Memory management is important to avoid memory leaks, ensure efficient use of resources, and keep the program fast and stable.\n",
        "\n",
        "14. What is the role of try and except in exception handling?\n",
        " - The `try` block contains code that might raise an exception, while the `except` block handles the error to prevent program crashes.\n",
        "\n",
        "15.  How does Python's garbage collection system work?\n",
        " - Python's garbage collector automatically frees memory by deleting objects with zero references using reference counting and cyclic garbage collection.\n",
        "\n",
        "16. What is the purpose of the else block in exception handling?\n",
        " - The `else` block runs if no exception occurs in the `try` block, allowing separation of error-free code from error-handling code.\n",
        "\n",
        "17. What are the common logging levels in Python?\n",
        " - Common logging levels in Python are: `DEBUG`, `INFO`, `WARNING`, `ERROR`, and `CRITICAL`, in increasing order of severity.\n",
        "\n",
        "18. What is the difference between os.fork() and multiprocessing in Python?\n",
        " - `os.fork()` creates a child process at the OS level (Unix only), while `multiprocessing` is a cross-platform module that spawns processes with more control and features.\n",
        "\n",
        "19. What is the importance of closing a file in Python?\n",
        " - Closing a file frees system resources, ensures data is written properly, and prevents file corruption or data loss.\n",
        "\n",
        "20. What is the difference between file.read() and file.readline() in Python?\n",
        " - `file.read()` reads the entire file content, while `file.readline()` reads only one line at a time from the file.\n",
        "\n",
        "21. What is the logging module in Python used for?\n",
        " - The `logging` module is used to record messages for debugging, tracking events, and monitoring application behavior during runtime.\n",
        "\n",
        "22.  What is the os module in Python used for in file handling?\n",
        " - The `os` module is used for interacting with the operating system, like creating, deleting, or navigating files and directories.\n",
        "\n",
        "23. What are the challenges associated with memory management in Python?\n",
        " - Challenges include handling circular references, managing large objects efficiently, and avoiding memory leaks due to lingering references.\n",
        "\n",
        "24.  How do you raise an exception manually in Python?\n",
        " - You can raise an exception manually using the `raise` keyword.  \n",
        "Example: `raise ValueError(\"Invalid input\")`\n",
        "\n",
        "25. Why is it important to use multithreading in certain applications?\n",
        " - Multithreading improves performance in I/O-bound tasks by running multiple operations concurrently, making programs faster and more responsive.\n",
        "\n",
        "\n",
        "\n",
        " ------ END OF THEORY QUESTIONS----"
      ],
      "metadata": {
        "id": "GogNkzCqIaav"
      }
    },
    {
      "cell_type": "markdown",
      "source": [
        "# PRACTICAL QUESTIONS\n"
      ],
      "metadata": {
        "id": "LSWUm7ZzLWZw"
      }
    },
    {
      "cell_type": "code",
      "source": [
        "1. #How can you open a file for writing in Python and write a string to it?\n",
        "with open(\"example.txt\", \"w\") as f:\n",
        "    f.write(\"Hello, this is a test string.\")"
      ],
      "metadata": {
        "id": "QXIJbCJcLam7"
      },
      "execution_count": 2,
      "outputs": []
    },
    {
      "cell_type": "code",
      "source": [
        "2. #Write a Python program to read the contents of a file and print each line?\n",
        "with open(\"example.txt\", \"r\") as f:\n",
        "    for line in f:\n",
        "        print(line.strip())"
      ],
      "metadata": {
        "colab": {
          "base_uri": "https://localhost:8080/"
        },
        "id": "-j3IomPYLkWw",
        "outputId": "3dd08b97-0aee-4e69-fde0-2d8f9bb6b0a7"
      },
      "execution_count": 3,
      "outputs": [
        {
          "output_type": "stream",
          "name": "stdout",
          "text": [
            "Hello, this is a test string.\n"
          ]
        }
      ]
    },
    {
      "cell_type": "code",
      "source": [
        "3 # How would you handle a case where the file doesn't exist while trying to open it for reading?\n",
        "try:\n",
        "    with open(\"example.txt\", \"r\") as f:\n",
        "        print(f.read())\n",
        "except FileNotFoundError:\n",
        "    print(\"File not found.\")"
      ],
      "metadata": {
        "colab": {
          "base_uri": "https://localhost:8080/"
        },
        "id": "cTZp8wPzL1Q9",
        "outputId": "3cdde337-9bcf-4e4d-9c7d-440d1f127ac1"
      },
      "execution_count": 4,
      "outputs": [
        {
          "output_type": "stream",
          "name": "stdout",
          "text": [
            "Hello, this is a test string.\n"
          ]
        }
      ]
    },
    {
      "cell_type": "code",
      "source": [
        "4. #Write a Python script that reads from one file and writes its content to another file?\n",
        "with open(\"source.txt\", \"w\") as f:\n",
        "    f.write(\"This is line 1.\\nThis is line 2.\")\n",
        "\n",
        "# Now read from it and write to destination.txt\n",
        "with open(\"source.txt\", \"r\") as src, open(\"destination.txt\", \"w\") as dest:\n",
        "    for line in src:\n",
        "        dest.write(line)"
      ],
      "metadata": {
        "id": "StMoZGeZMBGR"
      },
      "execution_count": 7,
      "outputs": []
    },
    {
      "cell_type": "code",
      "source": [
        "5. # How would you catch and handle division by zero error in Python?\n",
        "try:\n",
        "    result = 10 / 0\n",
        "except ZeroDivisionError:\n",
        "    print(\"Cannot divide by zero.\")"
      ],
      "metadata": {
        "colab": {
          "base_uri": "https://localhost:8080/"
        },
        "id": "D4MkPwFCMKO9",
        "outputId": "2e910024-50e4-46de-de85-a99772dd2188"
      },
      "execution_count": 8,
      "outputs": [
        {
          "output_type": "stream",
          "name": "stdout",
          "text": [
            "Cannot divide by zero.\n"
          ]
        }
      ]
    },
    {
      "cell_type": "code",
      "source": [
        "6. # Write a Python program that logs an error message to a log file when a division by zero exception occurs?\n",
        "import logging\n",
        "\n",
        "logging.basicConfig(filename='error.log', level=logging.ERROR)\n",
        "\n",
        "try:\n",
        "    result = 10 / 0\n",
        "except ZeroDivisionError as e:\n",
        "    logging.error(f\"Division by zero error: {e}\")"
      ],
      "metadata": {
        "colab": {
          "base_uri": "https://localhost:8080/"
        },
        "id": "UJx0X_d8Mbsl",
        "outputId": "c7628344-a69a-4fcd-f99e-0a30fe174207"
      },
      "execution_count": 9,
      "outputs": [
        {
          "output_type": "stream",
          "name": "stderr",
          "text": [
            "ERROR:root:Division by zero error: division by zero\n"
          ]
        }
      ]
    },
    {
      "cell_type": "code",
      "source": [
        "7. #How do you log information at different levels (INFO, ERROR, WARNING) in Python using the logging module?\n",
        "import logging\n",
        "\n",
        "logging.basicConfig(level=logging.DEBUG)\n",
        "\n",
        "logging.info(\"This is an info message.\")\n",
        "logging.warning(\"This is a warning.\")\n",
        "logging.error(\"This is an error.\")"
      ],
      "metadata": {
        "colab": {
          "base_uri": "https://localhost:8080/"
        },
        "id": "VPLuWIYxMkBG",
        "outputId": "632255fc-f628-4c4c-bb75-af30dd3479d3"
      },
      "execution_count": 10,
      "outputs": [
        {
          "output_type": "stream",
          "name": "stderr",
          "text": [
            "WARNING:root:This is a warning.\n",
            "ERROR:root:This is an error.\n"
          ]
        }
      ]
    },
    {
      "cell_type": "code",
      "source": [
        "8. # Write a program to handle a file opening error using exception handling?\n",
        "try:\n",
        "    with open(\"data.txt\", \"r\") as f:\n",
        "        print(f.read())\n",
        "except FileNotFoundError:\n",
        "    print(\"Error: File not found.\")"
      ],
      "metadata": {
        "colab": {
          "base_uri": "https://localhost:8080/"
        },
        "id": "clyxPu4KMqFd",
        "outputId": "3e5190c0-be12-445a-b6af-d9e5fb5a812e"
      },
      "execution_count": 11,
      "outputs": [
        {
          "output_type": "stream",
          "name": "stdout",
          "text": [
            "Error: File not found.\n"
          ]
        }
      ]
    },
    {
      "cell_type": "code",
      "source": [
        "9. #How can you read a file line by line and store its content in a list in Python?\n",
        "with open(\"data.txt\", \"w\") as f:\n",
        "    f.write(\"Line 1\\nLine 2\\nLine 3\")\n",
        "\n",
        "with open(\"data.txt\", \"r\") as f:\n",
        "    lines = f.readlines()\n",
        "\n",
        "print(lines)"
      ],
      "metadata": {
        "colab": {
          "base_uri": "https://localhost:8080/"
        },
        "id": "aYEPKMj0Mydw",
        "outputId": "a2011d05-c83f-4a73-cafd-aadaaf3df5b6"
      },
      "execution_count": 13,
      "outputs": [
        {
          "output_type": "stream",
          "name": "stdout",
          "text": [
            "['Line 1\\n', 'Line 2\\n', 'Line 3']\n"
          ]
        }
      ]
    },
    {
      "cell_type": "code",
      "source": [
        "10. # How can you append data to an existing file in Python?\n",
        "with open(\"data.txt\", \"a\") as f:\n",
        "    f.write(\"\\nNew line added.\")"
      ],
      "metadata": {
        "id": "-3e7_yYGM43V"
      },
      "execution_count": 15,
      "outputs": []
    },
    {
      "cell_type": "code",
      "source": [
        "11. #Write a Python program that uses a try-except block to handle an error when attempting to access a dictionary key that doesn't exist?\n",
        "my_dict = {\"name\": \"Alice\"}\n",
        "\n",
        "try:\n",
        "    print(my_dict[\"age\"])\n",
        "except KeyError:\n",
        "    print(\"Key not found in dictionary.\")"
      ],
      "metadata": {
        "colab": {
          "base_uri": "https://localhost:8080/"
        },
        "id": "-1-uUoWxNGAq",
        "outputId": "99eb5a42-9d81-447c-e1fb-2fcc845342a7"
      },
      "execution_count": 16,
      "outputs": [
        {
          "output_type": "stream",
          "name": "stdout",
          "text": [
            "Key not found in dictionary.\n"
          ]
        }
      ]
    },
    {
      "cell_type": "code",
      "source": [
        "12. #Write a program that demonstrates using multiple except blocks to handle different types of exceptions?\n",
        "try:\n",
        "    num = int(\"abc\")\n",
        "    result = 10 / 0\n",
        "except ValueError:\n",
        "    print(\"ValueError: Invalid input.\")\n",
        "except ZeroDivisionError:\n",
        "    print(\"ZeroDivisionError: Cannot divide by zero.\")"
      ],
      "metadata": {
        "colab": {
          "base_uri": "https://localhost:8080/"
        },
        "id": "L6N-9wEVNP7w",
        "outputId": "cdb61a2c-8222-41eb-9119-7f28c21ee02d"
      },
      "execution_count": 17,
      "outputs": [
        {
          "output_type": "stream",
          "name": "stdout",
          "text": [
            "ValueError: Invalid input.\n"
          ]
        }
      ]
    },
    {
      "cell_type": "code",
      "source": [
        "13. # How would you check if a file exists before attempting to read it in Python?\n",
        "import os\n",
        "\n",
        "if os.path.exists(\"data.txt\"):\n",
        "    with open(\"data.txt\", \"r\") as f:\n",
        "        print(f.read())\n",
        "else:\n",
        "    print(\"File does not exist.\")"
      ],
      "metadata": {
        "colab": {
          "base_uri": "https://localhost:8080/"
        },
        "id": "NBbCDFwRNXTm",
        "outputId": "83277ee6-4640-4663-89c0-c435028f8d48"
      },
      "execution_count": 18,
      "outputs": [
        {
          "output_type": "stream",
          "name": "stdout",
          "text": [
            "Line 1\n",
            "Line 2\n",
            "Line 3\n",
            "New line added.\n",
            "New line added.\n"
          ]
        }
      ]
    },
    {
      "cell_type": "code",
      "source": [
        "14. #Write a program that uses the logging module to log both informational and error messages?\n",
        "import logging\n",
        "\n",
        "logging.basicConfig(filename='app.log', level=logging.INFO)\n",
        "\n",
        "logging.info(\"Program started.\")\n",
        "try:\n",
        "    result = 10 / 0\n",
        "except ZeroDivisionError as e:\n",
        "    logging.error(f\"Error occurred: {e}\")"
      ],
      "metadata": {
        "colab": {
          "base_uri": "https://localhost:8080/"
        },
        "id": "E4AJJ_xMNfMI",
        "outputId": "45b94f16-604c-41ff-e607-12681ce6369e"
      },
      "execution_count": 19,
      "outputs": [
        {
          "output_type": "stream",
          "name": "stderr",
          "text": [
            "ERROR:root:Error occurred: division by zero\n"
          ]
        }
      ]
    },
    {
      "cell_type": "code",
      "source": [
        "15. #Write a Python program that prints the content of a file and handles the case when the file is empty?\n",
        "try:\n",
        "    with open(\"data.txt\", \"r\") as f:\n",
        "        content = f.read()\n",
        "        if content:\n",
        "            print(content)\n",
        "        else:\n",
        "            print(\"The file is empty.\")\n",
        "except FileNotFoundError:\n",
        "    print(\"File not found.\")"
      ],
      "metadata": {
        "colab": {
          "base_uri": "https://localhost:8080/"
        },
        "id": "lnKvN6zgNlpZ",
        "outputId": "a6c8326a-2e1d-4d00-d2d9-9ef3da293f4f"
      },
      "execution_count": 21,
      "outputs": [
        {
          "output_type": "stream",
          "name": "stdout",
          "text": [
            "Line 1\n",
            "Line 2\n",
            "Line 3\n",
            "New line added.\n",
            "New line added.\n"
          ]
        }
      ]
    },
    {
      "cell_type": "code",
      "source": [
        "!pip install memory-profiler"
      ],
      "metadata": {
        "colab": {
          "base_uri": "https://localhost:8080/"
        },
        "id": "1shRV2wxOVNu",
        "outputId": "ec1190d2-85e1-4224-d9f2-366309f9821f"
      },
      "execution_count": 26,
      "outputs": [
        {
          "output_type": "stream",
          "name": "stdout",
          "text": [
            "Collecting memory-profiler\n",
            "  Downloading memory_profiler-0.61.0-py3-none-any.whl.metadata (20 kB)\n",
            "Requirement already satisfied: psutil in /usr/local/lib/python3.11/dist-packages (from memory-profiler) (5.9.5)\n",
            "Downloading memory_profiler-0.61.0-py3-none-any.whl (31 kB)\n",
            "Installing collected packages: memory-profiler\n",
            "Successfully installed memory-profiler-0.61.0\n"
          ]
        }
      ]
    },
    {
      "cell_type": "code",
      "source": [
        "16. # Demonstrate how to use memory profiling to check the memory usage of a small program?\n",
        "from memory_profiler import profile\n",
        "\n",
        "@profile\n",
        "def my_function():\n",
        "    a = [i for i in range(10000)]\n",
        "    return sum(a)\n",
        "\n",
        "my_function()"
      ],
      "metadata": {
        "colab": {
          "base_uri": "https://localhost:8080/"
        },
        "id": "9WOTwA0CNr31",
        "outputId": "35b749e7-5e76-4d1d-df8f-932875ddb98e"
      },
      "execution_count": 29,
      "outputs": [
        {
          "output_type": "stream",
          "name": "stderr",
          "text": [
            "\n",
            "PYDEV DEBUGGER WARNING:\n",
            "sys.settrace() should not be used when the debugger is being used.\n",
            "This may cause the debugger to stop working correctly.\n",
            "If this is needed, please check: \n",
            "http://pydev.blogspot.com/2007/06/why-cant-pydev-debugger-work-with.html\n",
            "to see how to restore the debug tracing back correctly.\n",
            "Call Location:\n",
            "  File \"/usr/local/lib/python3.11/dist-packages/memory_profiler.py\", line 847, in enable\n",
            "    sys.settrace(self.trace_memory_usage)\n",
            "\n",
            "\n",
            "PYDEV DEBUGGER WARNING:\n",
            "sys.settrace() should not be used when the debugger is being used.\n",
            "This may cause the debugger to stop working correctly.\n",
            "If this is needed, please check: \n",
            "http://pydev.blogspot.com/2007/06/why-cant-pydev-debugger-work-with.html\n",
            "to see how to restore the debug tracing back correctly.\n",
            "Call Location:\n",
            "  File \"/usr/local/lib/python3.11/dist-packages/memory_profiler.py\", line 850, in disable\n",
            "    sys.settrace(self._original_trace_function)\n",
            "\n"
          ]
        },
        {
          "output_type": "stream",
          "name": "stdout",
          "text": [
            "ERROR: Could not find file <ipython-input-29-f7f470375853>\n",
            "NOTE: %mprun can only be used on functions defined in physical files, and not in the IPython environment.\n"
          ]
        },
        {
          "output_type": "execute_result",
          "data": {
            "text/plain": [
              "49995000"
            ]
          },
          "metadata": {},
          "execution_count": 29
        }
      ]
    },
    {
      "cell_type": "code",
      "source": [
        "17. #Write a Python program to create and write a list of numbers to a file, one number per line?\n",
        "numbers = [1, 2, 3, 4, 5]\n",
        "\n",
        "with open(\"numbers.txt\", \"w\") as f:\n",
        "    for number in numbers:\n",
        "        f.write(f\"{number}\\n\")\n",
        "\n",
        "# Display the file content\n",
        "with open(\"numbers.txt\", \"r\") as f:\n",
        "    print(f.read())\n"
      ],
      "metadata": {
        "colab": {
          "base_uri": "https://localhost:8080/"
        },
        "id": "hplejfg7ODz2",
        "outputId": "2ff47d59-eaf7-41c7-96d2-99415c9a4461"
      },
      "execution_count": 33,
      "outputs": [
        {
          "output_type": "stream",
          "name": "stdout",
          "text": [
            "1\n",
            "2\n",
            "3\n",
            "4\n",
            "5\n",
            "\n"
          ]
        }
      ]
    },
    {
      "cell_type": "code",
      "source": [
        "18. # How would you implement a basic logging setup that logs to a file with rotation after 1MB?\n",
        "import logging\n",
        "from logging.handlers import RotatingFileHandler\n",
        "\n",
        "logger = logging.getLogger(\"MyLogger\")\n",
        "logger.setLevel(logging.INFO)\n",
        "\n",
        "handler = RotatingFileHandler(\"app.log\", maxBytes=1_000_000, backupCount=3)\n",
        "logger.addHandler(handler)\n",
        "\n",
        "logger.info(\"This is a log message.\")"
      ],
      "metadata": {
        "colab": {
          "base_uri": "https://localhost:8080/"
        },
        "id": "n5DAHxH8On6q",
        "outputId": "ff17406d-626b-43e3-d431-8a7cad49c812"
      },
      "execution_count": 34,
      "outputs": [
        {
          "output_type": "stream",
          "name": "stderr",
          "text": [
            "INFO:MyLogger:This is a log message.\n"
          ]
        }
      ]
    },
    {
      "cell_type": "code",
      "source": [
        "19. #Write a program that handles both IndexError and KeyError using a try-except block?\n",
        "my_list = [1, 2, 3]\n",
        "my_dict = {\"name\": \"Alice\"}\n",
        "\n",
        "try:\n",
        "    print(my_list[5])\n",
        "    print(my_dict[\"age\"])\n",
        "except IndexError:\n",
        "    print(\"IndexError: List index out of range.\")\n",
        "except KeyError:\n",
        "    print(\"KeyError: Dictionary key not found.\")"
      ],
      "metadata": {
        "colab": {
          "base_uri": "https://localhost:8080/"
        },
        "id": "sBsYR9YgO6PP",
        "outputId": "27c50430-8876-4dcb-9e7e-bd3f8d4ac50d"
      },
      "execution_count": 35,
      "outputs": [
        {
          "output_type": "stream",
          "name": "stdout",
          "text": [
            "IndexError: List index out of range.\n"
          ]
        }
      ]
    },
    {
      "cell_type": "code",
      "source": [
        "20. # How would you open a file and read its contents using a context manager in Python?\n",
        "with open(\"data.txt\", \"r\") as f:\n",
        "    content = f.read()\n",
        "    print(content)"
      ],
      "metadata": {
        "colab": {
          "base_uri": "https://localhost:8080/"
        },
        "id": "XgML8PeBPAbT",
        "outputId": "5420f790-7d2e-4a38-bebc-a0700297e2a0"
      },
      "execution_count": 36,
      "outputs": [
        {
          "output_type": "stream",
          "name": "stdout",
          "text": [
            "Line 1\n",
            "Line 2\n",
            "Line 3\n",
            "New line added.\n",
            "New line added.\n"
          ]
        }
      ]
    },
    {
      "cell_type": "code",
      "source": [
        "21. # Write a Python program that reads a file and prints the number of occurrences of a specific word?\n",
        "word_to_find = \"Python\"\n",
        "count = 0\n",
        "\n",
        "with open(\"data.txt\", \"r\") as f:\n",
        "    for line in f:\n",
        "        count += line.lower().split().count(word_to_find.lower())\n",
        "\n",
        "print(f\"The word '{word_to_find}' appears {count} times.\")"
      ],
      "metadata": {
        "colab": {
          "base_uri": "https://localhost:8080/"
        },
        "id": "myFFl4wEPJKo",
        "outputId": "e969401e-12a2-444c-aa15-0d297d442a86"
      },
      "execution_count": 37,
      "outputs": [
        {
          "output_type": "stream",
          "name": "stdout",
          "text": [
            "The word 'Python' appears 0 times.\n"
          ]
        }
      ]
    },
    {
      "cell_type": "code",
      "source": [
        "22. #How can you check if a file is empty before attempting to read its contents?\n",
        "file_path = \"data.txt\"\n",
        "\n",
        "try:\n",
        "    with open(file_path, \"r\") as f:\n",
        "        content = f.read()\n",
        "        if not content:\n",
        "            print(\"The file is empty.\")\n",
        "        else:\n",
        "            print(content)\n",
        "except FileNotFoundError:\n",
        "    print(\"File not found.\")"
      ],
      "metadata": {
        "colab": {
          "base_uri": "https://localhost:8080/"
        },
        "id": "fC-RN4K3PPrh",
        "outputId": "8e9419bd-b73b-43d9-fa36-44e0eb3aa269"
      },
      "execution_count": 38,
      "outputs": [
        {
          "output_type": "stream",
          "name": "stdout",
          "text": [
            "Line 1\n",
            "Line 2\n",
            "Line 3\n",
            "New line added.\n",
            "New line added.\n"
          ]
        }
      ]
    },
    {
      "cell_type": "code",
      "source": [
        "23. # Write a Python program that writes to a log file when an error occurs during file handling?\n",
        "logging.basicConfig(filename=\"file_errors.log\", level=logging.ERROR)\n",
        "\n",
        "try:\n",
        "    with open(\"data.txt\", \"r\") as f:\n",
        "        content = f.read()\n",
        "        print(content)\n",
        "except FileNotFoundError as e:\n",
        "    logging.error(f\"File not found: {e}\")\n",
        "except IOError as e:\n",
        "    logging.error(f\"I/O error: {e}\")\n",
        "except Exception as e:\n",
        "    logging.error(f\"An unexpected error occurred: {e}\")"
      ],
      "metadata": {
        "colab": {
          "base_uri": "https://localhost:8080/"
        },
        "id": "KMX1iu_TPWZR",
        "outputId": "f28f1db1-fa58-43dc-f38f-a17fa0ac8fbd"
      },
      "execution_count": 39,
      "outputs": [
        {
          "output_type": "stream",
          "name": "stdout",
          "text": [
            "Line 1\n",
            "Line 2\n",
            "Line 3\n",
            "New line added.\n",
            "New line added.\n"
          ]
        }
      ]
    },
    {
      "cell_type": "markdown",
      "source": [
        "  ------- END OF PRACTICAL QUESTIONS ------"
      ],
      "metadata": {
        "id": "CLE-MzPhPoJU"
      }
    }
  ]
}