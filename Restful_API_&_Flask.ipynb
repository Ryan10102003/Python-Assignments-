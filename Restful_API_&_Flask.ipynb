{
  "nbformat": 4,
  "nbformat_minor": 0,
  "metadata": {
    "colab": {
      "provenance": []
    },
    "kernelspec": {
      "name": "python3",
      "display_name": "Python 3"
    },
    "language_info": {
      "name": "python"
    }
  },
  "cells": [
    {
      "cell_type": "markdown",
      "source": [
        "# Restful API & Flask Assignment\n",
        "\n",
        "Question and Answers\n",
        "\n",
        "\n",
        "1. What is a RESTful API?\n",
        " - A RESTful API is a web service that follows REST principles, using HTTP methods (GET, POST, PUT, DELETE) to perform operations on resources via URLs.\n",
        "\n",
        "2. Explain the concept of API specification?\n",
        " - An API specification defines how APIs should behave, including endpoints, request/response formats, and authentication, ensuring consistent communication between systems.\\\n",
        "\n",
        "3.  What is Flask, and why is it popular for building APIs?\n",
        " - Flask is a lightweight Python web framework that’s popular for building APIs due to its simplicity, flexibility, and minimal setup.\n",
        "\n",
        "4. What is routing in Flask?\n",
        " - Routing in Flask maps URLs to specific Python functions, letting the app respond to different web requests.\n",
        "\n",
        "5. How do you create a simple Flask application?\n",
        " - Import `Flask`, create an app instance, define a route with `@app.route()`, and run the server using `app.run()`.\n",
        "\n",
        "6. What are HTTP methods used in RESTful APIs?\n",
        " - Common HTTP methods are GET (read), POST (create), PUT (update), PATCH (partial update), and DELETE (remove).\n",
        "\n",
        "7.  What is the purpose of the @app.route() decorator in Flask?\n",
        " - The `@app.route()` decorator binds a URL to a function, telling Flask which function to run when that URL is accessed.\n",
        "\n",
        "8. What is the difference between GET and POST HTTP methods?\n",
        " - GET retrieves data from the server, while POST sends new data to the server for creation or processing.\n",
        "\n",
        "9. How do you handle errors in Flask APIs?\n",
        " - Use `try-except` blocks and Flask’s `@app.errorhandler` to catch exceptions and return meaningful error responses.\n",
        "\n",
        "10. How do you connect Flask to a SQL database?\n",
        " - Use libraries like `SQLAlchemy` or `Flask-SQLAlchemy` to define models and connect Flask to a SQL database with simple configurations.\n",
        "\n",
        "11. What is the role of Flask-SQLAlchemy?\n",
        " - Flask-SQLAlchemy simplifies database integration in Flask, providing an ORM for easier database operations and model management.\n",
        "\n",
        "12. What are Flask blueprints, and how are they useful?\n",
        " - Flask blueprints allow modular application development by organizing routes and views into reusable components, improving code structure.\n",
        "\n",
        "13. What is the purpose of Flask's request object?\n",
        " - The `request` object in Flask holds data from the incoming HTTP request, such as form data, query parameters, and JSON payloads.\n",
        "\n",
        "14. How do you create a RESTful API endpoint using Flask?\n",
        " - Use Flask's `@app.route()` with methods like GET or POST to define endpoints that handle specific HTTP requests and return responses.\n",
        "\n",
        "15. What is the purpose of Flask's jsonify() function?\n",
        " - The `jsonify()` function in Flask converts Python dictionaries or lists into JSON format, making it easier to return JSON responses in APIs.\n",
        "\n",
        "16. Explain Flask’s url_for() function?\n",
        " - The `url_for()` function generates a URL for a given endpoint, making it easier to link to routes dynamically in Flask applications.\n",
        "\n",
        "17. How does Flask handle static files (CSS, JavaScript, etc.)?\n",
        " - Flask serves static files from the `/static` folder by default, allowing access to resources like CSS, JavaScript, and images via URL paths.\n",
        "\n",
        "18. What is an API specification, and how does it help in building a Flask API?\n",
        " - An API specification outlines the endpoints, request/response formats, and authentication methods, helping in building consistent and well-documented Flask APIs.\n",
        "\n",
        "19. What are HTTP status codes, and why are they important in a Flask API?\n",
        " - HTTP status codes indicate the result of an HTTP request; they help clients understand the success, failure, or errors in a Flask API response (e.g., 200 for success, 404 for not found).\n",
        "\n",
        "20.  How do you handle POST requests in Flask?\n",
        " - Use the `@app.route()` decorator with `methods=['POST']`, and access the request data using `request.form` or `request.json` in the handler function.\n",
        "\n",
        "21. How would you secure a Flask API?\n",
        " - Secure a Flask API using techniques like JWT for authentication, HTTPS for secure communication, input validation, and protecting against common vulnerabilities (e.g., SQL injection).\n",
        "\n",
        "22.  What is the significance of the Flask-RESTful extension?\n",
        " - Flask-RESTful simplifies the creation of REST APIs in Flask by providing tools for building structured endpoints, handling HTTP methods, and organizing API resources.\n",
        "\n",
        "23.  What is the role of Flask’s session object?\n",
        " - Flask's `session` object stores data across requests, typically used for managing user sessions like authentication status or user preferences."
      ],
      "metadata": {
        "id": "4z5rvnSdwGEt"
      }
    },
    {
      "cell_type": "markdown",
      "source": [
        "# PRACTICAL QUESTIONS"
      ],
      "metadata": {
        "id": "Dw_pW_rqyLc7"
      }
    },
    {
      "cell_type": "code",
      "source": [
        "1. #How do you create a basic Flask application?\n",
        "\n",
        "from flask import Flask\n",
        "\n",
        "app = Flask(__name__)\n",
        "\n",
        "@app.route('/')\n",
        "def hello_world():\n",
        "    return 'Hello, World!'\n",
        "\n",
        "if __name__ == '__main__':\n",
        "    app.run()\n",
        "\n",
        "\n",
        "# Server ID http://127.0.0.1:5000/"
      ],
      "metadata": {
        "colab": {
          "base_uri": "https://localhost:8080/"
        },
        "id": "AGov8ut6yQUh",
        "outputId": "a71e9ab6-ba59-450c-80ec-7260df8a08ba"
      },
      "execution_count": 5,
      "outputs": [
        {
          "output_type": "stream",
          "name": "stdout",
          "text": [
            " * Serving Flask app '__main__'\n",
            " * Debug mode: off\n"
          ]
        },
        {
          "output_type": "stream",
          "name": "stderr",
          "text": [
            "INFO:werkzeug:\u001b[31m\u001b[1mWARNING: This is a development server. Do not use it in a production deployment. Use a production WSGI server instead.\u001b[0m\n",
            " * Running on http://127.0.0.1:5000\n",
            "INFO:werkzeug:\u001b[33mPress CTRL+C to quit\u001b[0m\n"
          ]
        }
      ]
    },
    {
      "cell_type": "code",
      "source": [
        "2. #How do you serve static files like images or CSS in Flask?\n",
        "\n",
        "from flask import Flask, render_template\n",
        "\n",
        "app = Flask(__name__)\n",
        "\n",
        "@app.route('/')\n",
        "def home():\n",
        "    return render_template('index.html')\n",
        "\n",
        "if __name__ == '__main__':\n",
        "    app.run(debug=True)"
      ],
      "metadata": {
        "colab": {
          "base_uri": "https://localhost:8080/"
        },
        "id": "EbJitFciyjQG",
        "outputId": "bc582954-a15f-4442-c39b-845b3d6e4118"
      },
      "execution_count": 6,
      "outputs": [
        {
          "output_type": "stream",
          "name": "stdout",
          "text": [
            " * Serving Flask app '__main__'\n",
            " * Debug mode: on\n"
          ]
        },
        {
          "output_type": "stream",
          "name": "stderr",
          "text": [
            "INFO:werkzeug:\u001b[31m\u001b[1mWARNING: This is a development server. Do not use it in a production deployment. Use a production WSGI server instead.\u001b[0m\n",
            " * Running on http://127.0.0.1:5000\n",
            "INFO:werkzeug:\u001b[33mPress CTRL+C to quit\u001b[0m\n",
            "INFO:werkzeug: * Restarting with stat\n"
          ]
        }
      ]
    },
    {
      "cell_type": "code",
      "source": [
        "3. #M How do you define different routes with different HTTP methods in Flask?\n",
        "\n",
        "from flask import Flask, request\n",
        "\n",
        "app = Flask(__name__)\n",
        "\n",
        "# GET request\n",
        "@app.route('/hello', methods=['GET'])\n",
        "def hello_get():\n",
        "    return \"Hello, GET request!\"\n",
        "\n",
        "# POST request\n",
        "@app.route('/hello', methods=['POST'])\n",
        "def hello_post():\n",
        "    data = request.get_json()\n",
        "    return f\"Hello, POST request with data: {data}\"\n",
        "\n",
        "# PUT request\n",
        "@app.route('/hello', methods=['PUT'])\n",
        "def hello_put():\n",
        "    return \"Hello, PUT request!\"\n",
        "\n",
        "if __name__ == '__main__':\n",
        "    app.run(debug=True)"
      ],
      "metadata": {
        "colab": {
          "base_uri": "https://localhost:8080/"
        },
        "id": "2pDhulZf0HTR",
        "outputId": "9291c7a5-5ae6-44c3-e55a-d78c12182d81"
      },
      "execution_count": null,
      "outputs": [
        {
          "output_type": "stream",
          "name": "stdout",
          "text": [
            " * Serving Flask app '__main__'\n",
            " * Debug mode: on\n"
          ]
        },
        {
          "output_type": "stream",
          "name": "stderr",
          "text": [
            "INFO:werkzeug:\u001b[31m\u001b[1mWARNING: This is a development server. Do not use it in a production deployment. Use a production WSGI server instead.\u001b[0m\n",
            " * Running on http://127.0.0.1:5000\n",
            "INFO:werkzeug:\u001b[33mPress CTRL+C to quit\u001b[0m\n",
            "INFO:werkzeug: * Restarting with stat\n"
          ]
        }
      ]
    },
    {
      "cell_type": "code",
      "source": [
        "4. # How do you render HTML templates in Flask?\n",
        "\n",
        "from flask import Flask, render_template\n",
        "\n",
        "app = Flask(__name__)\n",
        "\n",
        "@app.route('/')\n",
        "def home():\n",
        "    return render_template('index.html')\n",
        "\n",
        "if __name__ == '__main__':\n",
        "    app.run(debug=True)\n"
      ],
      "metadata": {
        "id": "BNj1Ywoi1kD5"
      },
      "execution_count": null,
      "outputs": []
    },
    {
      "cell_type": "code",
      "source": [
        "5. # How can you generate URLs for routes in Flask using url_for?\n",
        "\n",
        "from flask import Flask, render_template, url_for\n",
        "\n",
        "app = Flask(__name__)\n",
        "\n",
        "@app.route('/')\n",
        "def home():\n",
        "    return render_template('index.html')\n",
        "\n",
        "@app.route('/about')\n",
        "def about():\n",
        "    return \"This is the About page\"\n",
        "\n",
        "if __name__ == '__main__':\n",
        "    app.run(debug=True)\n"
      ],
      "metadata": {
        "id": "9YkOhODe19iq"
      },
      "execution_count": null,
      "outputs": []
    },
    {
      "cell_type": "code",
      "source": [
        "6. # How do you handle forms in Flask?\n",
        "\n",
        "from flask import Flask, render_template, request\n",
        "\n",
        "app = Flask(__name__)\n",
        "\n",
        "@app.route('/', methods=['GET', 'POST'])\n",
        "def home():\n",
        "    if request.method == 'POST':\n",
        "        username = request.form['username']\n",
        "        return f'Hello, {username}!'\n",
        "    return render_template('form.html')\n",
        "\n",
        "if __name__ == '__main__':\n",
        "    app.run(debug=True)\n"
      ],
      "metadata": {
        "id": "dkLPa8Gs32Y1"
      },
      "execution_count": null,
      "outputs": []
    },
    {
      "cell_type": "code",
      "source": [
        "7. #How can you validate form data in Flask?\n",
        "\n",
        "from flask import Flask, render_template, request, flash\n",
        "\n",
        "app = Flask(__name__)\n",
        "app.secret_key = 'your_secret_key'\n",
        "\n",
        "@app.route('/', methods=['GET', 'POST'])\n",
        "def home():\n",
        "    if request.method == 'POST':\n",
        "        username = request.form['username']\n",
        "\n",
        "        # Manual Validation\n",
        "        if not username:\n",
        "            flash('Username is required!', 'error')\n",
        "        elif len(username) < 3:\n",
        "            flash('Username must be at least 3 characters long', 'error')\n",
        "        else:\n",
        "            return f'Hello, {username}!'\n",
        "\n",
        "    return render_template('form.html')\n",
        "\n",
        "if __name__ == '__main__':\n",
        "    app.run(debug=True)\n"
      ],
      "metadata": {
        "id": "sHoDgnb93-Vr"
      },
      "execution_count": null,
      "outputs": []
    },
    {
      "cell_type": "code",
      "source": [
        "8. # How do you manage sessions in Flask?\n",
        "\n",
        "from flask import Flask, session, redirect, url_for, request, render_template\n",
        "\n",
        "app = Flask(__name__)\n",
        "app.secret_key = 'your_secret_key'  # Set a secret key to secure sessions\n",
        "\n",
        "@app.route('/')\n",
        "def home():\n",
        "    if 'username' in session:\n",
        "        return f'Hello, {session[\"username\"]}!'\n",
        "    return redirect(url_for('login'))\n",
        "\n",
        "@app.route('/login', methods=['GET', 'POST'])\n",
        "def login():\n",
        "    if request.method == 'POST':\n",
        "        session['username'] = request.form['username']\n",
        "        return redirect(url_for('home'))\n",
        "    return render_template('login.html')\n",
        "\n",
        "@app.route('/logout')\n",
        "def logout():\n",
        "    session.pop('username', None)  # Remove the username from the session\n",
        "    return redirect(url_for('home'))\n",
        "\n",
        "if __name__ == '__main__':\n",
        "    app.run(debug=True)\n"
      ],
      "metadata": {
        "id": "0eZMn7E44D7t"
      },
      "execution_count": null,
      "outputs": []
    },
    {
      "cell_type": "code",
      "source": [
        "9. #How do you redirect to a different route in Flask?\n",
        "\n",
        "from flask import Flask, redirect, url_for\n",
        "\n",
        "app = Flask(__name__)\n",
        "\n",
        "@app.route('/')\n",
        "def home():\n",
        "    return \"Welcome to the home page!\"\n",
        "\n",
        "@app.route('/login')\n",
        "def login():\n",
        "    return \"Please log in.\"\n",
        "\n",
        "@app.route('/dashboard')\n",
        "def dashboard():\n",
        "    return \"Welcome to the dashboard!\"\n",
        "\n",
        "@app.route('/redirect_to_dashboard')\n",
        "def redirect_to_dashboard():\n",
        "    # Redirecting to the 'dashboard' route\n",
        "    return redirect(url_for('dashboard'))\n",
        "\n",
        "if __name__ == '__main__':\n",
        "    app.run(debug=True)\n"
      ],
      "metadata": {
        "id": "puEPlqEP4LcO"
      },
      "execution_count": null,
      "outputs": []
    },
    {
      "cell_type": "code",
      "source": [
        "10. # How do you handle errors in Flask (e.g., 404)?\n",
        "\n",
        "from flask import Flask, render_template\n",
        "\n",
        "app = Flask(__name__)\n",
        "\n",
        "@app.route('/')\n",
        "def home():\n",
        "    return \"Welcome to the home page!\"\n",
        "\n",
        "# Custom 404 error handler\n",
        "@app.errorhandler(404)\n",
        "def page_not_found(error):\n",
        "    return render_template('404.html'), 404\n",
        "\n",
        "if __name__ == '__main__':\n",
        "    app.run(debug=True)\n",
        "\n"
      ],
      "metadata": {
        "id": "v2JTaCvD4SUc"
      },
      "execution_count": null,
      "outputs": []
    },
    {
      "cell_type": "code",
      "source": [
        "11. #M How do you structure a Flask app using Blueprints?\n",
        "\n",
        "from flask import Flask\n",
        "from app.auth import auth_blueprint\n",
        "from app.main import main_blueprint\n",
        "\n",
        "app = Flask(__name__)\n",
        "\n",
        "# Register Blueprints\n",
        "app.register_blueprint(auth_blueprint, url_prefix='/auth')\n",
        "app.register_blueprint(main_blueprint, url_prefix='/')\n",
        "\n",
        "if __name__ == '__main__':\n",
        "    app.run(debug=True)\n"
      ],
      "metadata": {
        "id": "dQYXe0p54YZ5"
      },
      "execution_count": null,
      "outputs": []
    },
    {
      "cell_type": "code",
      "source": [
        "12. #How do you define a custom Jinja filter in Flask?\n",
        "\n",
        "from flask import Flask, render_template\n",
        "\n",
        "app = Flask(__name__)\n",
        "\n",
        "# Define a custom Jinja filter\n",
        "@app.template_filter('reverse_string')\n",
        "def reverse_string(s):\n",
        "    return s[::-1]  # Reverses the input string\n",
        "\n",
        "@app.route('/')\n",
        "def home():\n",
        "    sample_text = \"Hello, Flask!\"\n",
        "    return render_template('index.html', text=sample_text)\n",
        "\n",
        "if __name__ == '__main__':\n",
        "    app.run(debug=True)\n"
      ],
      "metadata": {
        "id": "0m5dubkB4eWh"
      },
      "execution_count": null,
      "outputs": []
    },
    {
      "cell_type": "code",
      "source": [
        "13. # How can you redirect with query parameters in Flask?\n",
        "\n",
        "from flask import Flask, redirect, url_for, request\n",
        "\n",
        "app = Flask(__name__)\n",
        "\n",
        "@app.route('/')\n",
        "def home():\n",
        "    return 'Welcome to the home page!'\n",
        "\n",
        "@app.route('/redirect_with_params')\n",
        "def redirect_with_params():\n",
        "    # Example of redirecting to /destination with query parameters\n",
        "    return redirect(url_for('destination', user='John', age=25))\n",
        "\n",
        "@app.route('/destination')\n",
        "def destination():\n",
        "    # Accessing query parameters using request.args\n",
        "    user = request.args.get('user')\n",
        "    age = request.args.get('age')\n",
        "    return f'User: {user}, Age: {age}'\n",
        "\n",
        "if __name__ == '__main__':\n",
        "    app.run(debug=True)\n",
        "\n"
      ],
      "metadata": {
        "id": "033SbhUt4koX"
      },
      "execution_count": null,
      "outputs": []
    },
    {
      "cell_type": "code",
      "source": [
        "14. #How do you return JSON responses in Flask?\n",
        "\n",
        "from flask import Flask, jsonify\n",
        "\n",
        "app = Flask(__name__)\n",
        "\n",
        "@app.route('/api/data')\n",
        "def get_data():\n",
        "    # Sample data to return as JSON\n",
        "    data = {\n",
        "        'name': 'John',\n",
        "        'age': 30,\n",
        "        'city': 'New York'\n",
        "    }\n",
        "    return jsonify(data)  # Convert data to JSON and return as response\n",
        "\n",
        "if __name__ == '__main__':\n",
        "    app.run(debug=True)\n"
      ],
      "metadata": {
        "id": "mE2dxQ_Y4q-q"
      },
      "execution_count": null,
      "outputs": []
    },
    {
      "cell_type": "code",
      "source": [
        "15. # How do you capture URL parameters in Flask?\n",
        "\n",
        "from flask import Flask\n",
        "\n",
        "app = Flask(__name__)\n",
        "\n",
        "@app.route('/user/<username>')\n",
        "def show_user(username):\n",
        "    return f'User: {username}'\n",
        "\n",
        "if __name__ == '__main__':\n",
        "    app.run(debug=True)\n"
      ],
      "metadata": {
        "id": "LtEn9Gx14yhz"
      },
      "execution_count": null,
      "outputs": []
    },
    {
      "cell_type": "markdown",
      "source": [
        "# END OF PRACTICAL QUESTIONS"
      ],
      "metadata": {
        "id": "rNY1Morr47Ym"
      }
    },
    {
      "cell_type": "code",
      "source": [],
      "metadata": {
        "id": "I-nFF-1K5ACd"
      },
      "execution_count": null,
      "outputs": []
    }
  ]
}